{
 "cells": [
  {
   "cell_type": "markdown",
   "id": "02840930",
   "metadata": {},
   "source": [
    "### Epic 1 - Iteration 1 - User story - 1.4"
   ]
  },
  {
   "cell_type": "code",
   "execution_count": 1,
   "id": "79e7c0e2",
   "metadata": {},
   "outputs": [],
   "source": [
    "import re\n",
    "import pandas as pd\n",
    "import numpy as np"
   ]
  },
  {
   "cell_type": "code",
   "execution_count": 2,
   "id": "c2a42615",
   "metadata": {},
   "outputs": [],
   "source": [
    "\"\"\"\n",
    "Read the appliance data files \n",
    "\"\"\"\n",
    "# Appliance 1 - Air Conditioner\n",
    "air_conditioner_df_original = pd.read_csv('ac_2022_08_28.csv', low_memory = False)\n",
    "# Appliance 2 - Clothes dryer\n",
    "clothes_dryer_df_original = pd.read_csv('cd_2022_08_28.csv')\n",
    "# Appliance 3 - Dishwasher\n",
    "dishwasher_df_original = pd.read_csv('dw_2022_08_28.csv')\n",
    "# Appliance 4 - Clothes Washer\n",
    "clotheswasher_df_original = pd.read_csv('cw_2022_08_28.csv')\n",
    "# Appliance 5 - Refrigerator\n",
    "refrigerator_df_original = pd.read_csv('rf_2022_08_29.csv')\n",
    "# Appliance 6 - Television\n",
    "television_df_original = pd.read_csv('tv_2022_08_29.csv')\n",
    "# Appliance 7 - Computer monitors\n",
    "computer_df_original = pd.read_csv('mo_2022_08_29.csv')\n"
   ]
  },
  {
   "cell_type": "code",
   "execution_count": 3,
   "id": "87ac42bf",
   "metadata": {},
   "outputs": [
    {
     "data": {
      "text/plain": [
       "Index(['ApplStandard', 'MEPSComp', 'N-Standard', 'Model_No', 'Family Name',\n",
       "       'avg_pwr_standby_mode', 'Brand', 'C-Dehumid_Rated', 'Configuration1',\n",
       "       'Configuration2',\n",
       "       ...\n",
       "       'Have_water_tank', 'Rated cool power input with water',\n",
       "       'Rated cool cap with water W', 'Rated cool cap with water kW',\n",
       "       'Residential tcec_cold with water', 'Residential tcec_mixed with water',\n",
       "       'Residential tcec_hot with water', 'PIA inoperative power',\n",
       "       'Rated AEER', 'Rated ACOP'],\n",
       "      dtype='object', length=167)"
      ]
     },
     "execution_count": 3,
     "metadata": {},
     "output_type": "execute_result"
    }
   ],
   "source": [
    "air_conditioner_df_original.columns"
   ]
  },
  {
   "cell_type": "markdown",
   "id": "3db9de42",
   "metadata": {},
   "source": [
    "**Data cleaning and wrangling steps**"
   ]
  },
  {
   "cell_type": "markdown",
   "id": "cd40e205",
   "metadata": {},
   "source": [
    "**1. Air conditioner**"
   ]
  },
  {
   "cell_type": "code",
   "execution_count": 4,
   "id": "23de9074",
   "metadata": {},
   "outputs": [
    {
     "data": {
      "text/plain": [
       "Index(['ApplStandard', 'MEPSComp', 'N-Standard', 'Model_No', 'Family Name',\n",
       "       'avg_pwr_standby_mode', 'Brand', 'C-Dehumid_Rated', 'Configuration1',\n",
       "       'Configuration2',\n",
       "       ...\n",
       "       'Have_water_tank', 'Rated cool power input with water',\n",
       "       'Rated cool cap with water W', 'Rated cool cap with water kW',\n",
       "       'Residential tcec_cold with water', 'Residential tcec_mixed with water',\n",
       "       'Residential tcec_hot with water', 'PIA inoperative power',\n",
       "       'Rated AEER', 'Rated ACOP'],\n",
       "      dtype='object', length=167)"
      ]
     },
     "execution_count": 4,
     "metadata": {},
     "output_type": "execute_result"
    }
   ],
   "source": [
    "\"\"\"\n",
    "Columns needed for air-conditioner - Model_No, Brand, Country,Sold_in, Type, EER  - Energy Rating\n",
    "\"\"\" \n",
    "air_conditioner_df_original.columns\n"
   ]
  },
  {
   "cell_type": "code",
   "execution_count": 5,
   "id": "b765abef",
   "metadata": {},
   "outputs": [
    {
     "data": {
      "text/plain": [
       "Index(['Model_No', 'Brand', 'Country', 'Sold_in', 'Type', 'EER',\n",
       "       'Rated heating power input kW', 'Rated cooling power input kW'],\n",
       "      dtype='object')"
      ]
     },
     "execution_count": 5,
     "metadata": {},
     "output_type": "execute_result"
    }
   ],
   "source": [
    "# Extracting only the required columns\n",
    "air_conditioner_df = air_conditioner_df_original[['Model_No', 'Brand', 'Country', 'Sold_in', 'Type', 'EER',\n",
    "                                                 'Rated heating power input kW', 'Rated cooling power input kW' ]]\n",
    "air_conditioner_df.columns"
   ]
  },
  {
   "cell_type": "code",
   "execution_count": 6,
   "id": "a9f6bb32",
   "metadata": {},
   "outputs": [
    {
     "data": {
      "text/html": [
       "<div>\n",
       "<style scoped>\n",
       "    .dataframe tbody tr th:only-of-type {\n",
       "        vertical-align: middle;\n",
       "    }\n",
       "\n",
       "    .dataframe tbody tr th {\n",
       "        vertical-align: top;\n",
       "    }\n",
       "\n",
       "    .dataframe thead th {\n",
       "        text-align: right;\n",
       "    }\n",
       "</style>\n",
       "<table border=\"1\" class=\"dataframe\">\n",
       "  <thead>\n",
       "    <tr style=\"text-align: right;\">\n",
       "      <th></th>\n",
       "      <th>Sold_in</th>\n",
       "      <th>EER</th>\n",
       "    </tr>\n",
       "  </thead>\n",
       "  <tbody>\n",
       "    <tr>\n",
       "      <th>0</th>\n",
       "      <td>Australia,Fiji,New Zealand</td>\n",
       "      <td>2.7800</td>\n",
       "    </tr>\n",
       "    <tr>\n",
       "      <th>1</th>\n",
       "      <td>New Zealand</td>\n",
       "      <td>3.1210</td>\n",
       "    </tr>\n",
       "    <tr>\n",
       "      <th>2</th>\n",
       "      <td>New Zealand</td>\n",
       "      <td>3.1620</td>\n",
       "    </tr>\n",
       "    <tr>\n",
       "      <th>3</th>\n",
       "      <td>New Zealand</td>\n",
       "      <td>3.4330</td>\n",
       "    </tr>\n",
       "    <tr>\n",
       "      <th>4</th>\n",
       "      <td>New Zealand</td>\n",
       "      <td>3.1300</td>\n",
       "    </tr>\n",
       "    <tr>\n",
       "      <th>...</th>\n",
       "      <td>...</td>\n",
       "      <td>...</td>\n",
       "    </tr>\n",
       "    <tr>\n",
       "      <th>5425</th>\n",
       "      <td>Australia,New Zealand</td>\n",
       "      <td>NaN</td>\n",
       "    </tr>\n",
       "    <tr>\n",
       "      <th>5426</th>\n",
       "      <td>Australia,New Zealand</td>\n",
       "      <td>NaN</td>\n",
       "    </tr>\n",
       "    <tr>\n",
       "      <th>5427</th>\n",
       "      <td>Australia,New Zealand</td>\n",
       "      <td>NaN</td>\n",
       "    </tr>\n",
       "    <tr>\n",
       "      <th>5428</th>\n",
       "      <td>Australia,New Zealand</td>\n",
       "      <td>NaN</td>\n",
       "    </tr>\n",
       "    <tr>\n",
       "      <th>5429</th>\n",
       "      <td>Australia,Fiji,New Zealand</td>\n",
       "      <td>3.7059</td>\n",
       "    </tr>\n",
       "  </tbody>\n",
       "</table>\n",
       "<p>5430 rows × 2 columns</p>\n",
       "</div>"
      ],
      "text/plain": [
       "                         Sold_in     EER\n",
       "0     Australia,Fiji,New Zealand  2.7800\n",
       "1                    New Zealand  3.1210\n",
       "2                    New Zealand  3.1620\n",
       "3                    New Zealand  3.4330\n",
       "4                    New Zealand  3.1300\n",
       "...                          ...     ...\n",
       "5425       Australia,New Zealand     NaN\n",
       "5426       Australia,New Zealand     NaN\n",
       "5427       Australia,New Zealand     NaN\n",
       "5428       Australia,New Zealand     NaN\n",
       "5429  Australia,Fiji,New Zealand  3.7059\n",
       "\n",
       "[5430 rows x 2 columns]"
      ]
     },
     "execution_count": 6,
     "metadata": {},
     "output_type": "execute_result"
    }
   ],
   "source": [
    "# Displaying the columns that contains null values\n",
    "air_conditioner_df.loc[:, air_conditioner_df.isnull().any()]"
   ]
  },
  {
   "cell_type": "markdown",
   "id": "8e8350b9",
   "metadata": {},
   "source": [
    "**2. Clothes dryer**"
   ]
  },
  {
   "cell_type": "code",
   "execution_count": 7,
   "id": "10193a4a",
   "metadata": {},
   "outputs": [
    {
     "data": {
      "text/plain": [
       "Index(['ApplStandard', 'Brand', 'Cap', 'Combination', 'Control', 'Country',\n",
       "       'Depth', 'Height', 'Model No', 'Family Name', 'N-Standard', 'New CEC',\n",
       "       'New SRI', 'New Star', 'Prog Name', 'Prog Time', 'Sold_in',\n",
       "       'SubmitStatus', 'Submit_ID', 'Test_Moist_Remove', 'Tot_Wat_Cons',\n",
       "       'Type', 'Width', 'ExpDate', 'GrandDate', 'Product Class',\n",
       "       'Availability Status', 'Product Website', 'Representative Brand URL',\n",
       "       'Star Rating (old)', 'Star Image Large', 'Star Image Small'],\n",
       "      dtype='object')"
      ]
     },
     "execution_count": 7,
     "metadata": {},
     "output_type": "execute_result"
    }
   ],
   "source": [
    "\"\"\"\n",
    "Columns needed for clothes dryer - Brand,  Country, Model No, New Star, Sold_in, Type, New CEC\n",
    "\"\"\"\n",
    "clothes_dryer_df_original.columns"
   ]
  },
  {
   "cell_type": "code",
   "execution_count": 8,
   "id": "74a8ae30",
   "metadata": {},
   "outputs": [
    {
     "data": {
      "text/plain": [
       "Index(['Brand', 'Country', 'Model No', 'New Star', 'Sold_in', 'Type',\n",
       "       'New CEC'],\n",
       "      dtype='object')"
      ]
     },
     "execution_count": 8,
     "metadata": {},
     "output_type": "execute_result"
    }
   ],
   "source": [
    "# Extracting only the required columns\n",
    "clothes_dryer_df = clothes_dryer_df_original[['Brand', 'Country', 'Model No', 'New Star', 'Sold_in', \n",
    "                                              'Type', 'New CEC']]\n",
    "clothes_dryer_df.columns"
   ]
  },
  {
   "cell_type": "code",
   "execution_count": 9,
   "id": "6cd6b31b",
   "metadata": {},
   "outputs": [
    {
     "data": {
      "text/html": [
       "<div>\n",
       "<style scoped>\n",
       "    .dataframe tbody tr th:only-of-type {\n",
       "        vertical-align: middle;\n",
       "    }\n",
       "\n",
       "    .dataframe tbody tr th {\n",
       "        vertical-align: top;\n",
       "    }\n",
       "\n",
       "    .dataframe thead th {\n",
       "        text-align: right;\n",
       "    }\n",
       "</style>\n",
       "<table border=\"1\" class=\"dataframe\">\n",
       "  <thead>\n",
       "    <tr style=\"text-align: right;\">\n",
       "      <th></th>\n",
       "      <th>Country</th>\n",
       "      <th>Sold_in</th>\n",
       "    </tr>\n",
       "  </thead>\n",
       "  <tbody>\n",
       "    <tr>\n",
       "      <th>0</th>\n",
       "      <td>NaN</td>\n",
       "      <td>New Zealand</td>\n",
       "    </tr>\n",
       "    <tr>\n",
       "      <th>1</th>\n",
       "      <td>NaN</td>\n",
       "      <td>New Zealand</td>\n",
       "    </tr>\n",
       "    <tr>\n",
       "      <th>2</th>\n",
       "      <td>NaN</td>\n",
       "      <td>New Zealand</td>\n",
       "    </tr>\n",
       "    <tr>\n",
       "      <th>3</th>\n",
       "      <td>United Kingdom</td>\n",
       "      <td>New Zealand</td>\n",
       "    </tr>\n",
       "    <tr>\n",
       "      <th>4</th>\n",
       "      <td>United Kingdom</td>\n",
       "      <td>New Zealand</td>\n",
       "    </tr>\n",
       "    <tr>\n",
       "      <th>...</th>\n",
       "      <td>...</td>\n",
       "      <td>...</td>\n",
       "    </tr>\n",
       "    <tr>\n",
       "      <th>622</th>\n",
       "      <td>China</td>\n",
       "      <td>Australia,Fiji,New Zealand</td>\n",
       "    </tr>\n",
       "    <tr>\n",
       "      <th>623</th>\n",
       "      <td>China</td>\n",
       "      <td>Australia,Fiji,New Zealand</td>\n",
       "    </tr>\n",
       "    <tr>\n",
       "      <th>624</th>\n",
       "      <td>China</td>\n",
       "      <td>Australia,Fiji,New Zealand</td>\n",
       "    </tr>\n",
       "    <tr>\n",
       "      <th>625</th>\n",
       "      <td>Turkey</td>\n",
       "      <td>Australia,Fiji,New Zealand</td>\n",
       "    </tr>\n",
       "    <tr>\n",
       "      <th>626</th>\n",
       "      <td>China</td>\n",
       "      <td>Australia,Fiji,New Zealand</td>\n",
       "    </tr>\n",
       "  </tbody>\n",
       "</table>\n",
       "<p>627 rows × 2 columns</p>\n",
       "</div>"
      ],
      "text/plain": [
       "            Country                     Sold_in\n",
       "0               NaN                 New Zealand\n",
       "1               NaN                 New Zealand\n",
       "2               NaN                 New Zealand\n",
       "3    United Kingdom                 New Zealand\n",
       "4    United Kingdom                 New Zealand\n",
       "..              ...                         ...\n",
       "622           China  Australia,Fiji,New Zealand\n",
       "623           China  Australia,Fiji,New Zealand\n",
       "624           China  Australia,Fiji,New Zealand\n",
       "625          Turkey  Australia,Fiji,New Zealand\n",
       "626           China  Australia,Fiji,New Zealand\n",
       "\n",
       "[627 rows x 2 columns]"
      ]
     },
     "execution_count": 9,
     "metadata": {},
     "output_type": "execute_result"
    }
   ],
   "source": [
    "# Displaying the columns that contains null values\n",
    "clothes_dryer_df.loc[:, clothes_dryer_df.isnull().any()]"
   ]
  },
  {
   "cell_type": "markdown",
   "id": "1c7d1252",
   "metadata": {},
   "source": [
    "**3. Dishwasher**"
   ]
  },
  {
   "cell_type": "code",
   "execution_count": 10,
   "id": "54d10876",
   "metadata": {},
   "outputs": [
    {
     "data": {
      "text/plain": [
       "Index(['ApplStandard', 'Brand', 'Cap', 'CEC_', 'Conn_Type', 'Country',\n",
       "       'delayStartMode', 'Depth', 'Height', 'Load_Type', 'Model No',\n",
       "       'Family Name', 'N-Standard', 'New SRI', 'New Star', 'postProgenergy',\n",
       "       'powerConsMode', 'Prog Name', 'Prog Time', 'Sold_in',\n",
       "       'standbyPowerUsage', 'Submit_ID', 'SubmitStatus', 'Tot Wat Cons',\n",
       "       'Type', 'Water_Softener', 'Width', 'ExpDate', 'GrandDate',\n",
       "       'Product Class', 'Availability Status', 'Product Website',\n",
       "       'Representative Brand URL', 'Water Consumption (litres)',\n",
       "       'Star Rating (old)', 'Star Image Large', 'Star Image Small'],\n",
       "      dtype='object')"
      ]
     },
     "execution_count": 10,
     "metadata": {},
     "output_type": "execute_result"
    }
   ],
   "source": [
    "\"\"\"\n",
    "Columns to be selected - Brand, Country, Model No, New Star, Sold_in, Type, CEC_\n",
    "\"\"\"\n",
    "dishwasher_df_original.columns"
   ]
  },
  {
   "cell_type": "code",
   "execution_count": 11,
   "id": "0b4ebc22",
   "metadata": {},
   "outputs": [
    {
     "data": {
      "text/plain": [
       "Index(['Brand', 'Country', 'Model No', 'New Star', 'Sold_in', 'Type', 'CEC_'], dtype='object')"
      ]
     },
     "execution_count": 11,
     "metadata": {},
     "output_type": "execute_result"
    }
   ],
   "source": [
    "# Extracting only the required columns\n",
    "dishwasher_df = dishwasher_df_original[['Brand', 'Country', 'Model No', 'New Star','Sold_in', 'Type', 'CEC_']]\n",
    "dishwasher_df.columns"
   ]
  },
  {
   "cell_type": "code",
   "execution_count": 12,
   "id": "5b7909ba",
   "metadata": {},
   "outputs": [
    {
     "data": {
      "text/html": [
       "<div>\n",
       "<style scoped>\n",
       "    .dataframe tbody tr th:only-of-type {\n",
       "        vertical-align: middle;\n",
       "    }\n",
       "\n",
       "    .dataframe tbody tr th {\n",
       "        vertical-align: top;\n",
       "    }\n",
       "\n",
       "    .dataframe thead th {\n",
       "        text-align: right;\n",
       "    }\n",
       "</style>\n",
       "<table border=\"1\" class=\"dataframe\">\n",
       "  <thead>\n",
       "    <tr style=\"text-align: right;\">\n",
       "      <th></th>\n",
       "      <th>Model No</th>\n",
       "      <th>Sold_in</th>\n",
       "    </tr>\n",
       "  </thead>\n",
       "  <tbody>\n",
       "    <tr>\n",
       "      <th>0</th>\n",
       "      <td>TD6W-F1</td>\n",
       "      <td>New Zealand</td>\n",
       "    </tr>\n",
       "    <tr>\n",
       "      <th>1</th>\n",
       "      <td>TD6S-F1</td>\n",
       "      <td>New Zealand</td>\n",
       "    </tr>\n",
       "    <tr>\n",
       "      <th>2</th>\n",
       "      <td>TD6W-F1</td>\n",
       "      <td>New Zealand</td>\n",
       "    </tr>\n",
       "    <tr>\n",
       "      <th>3</th>\n",
       "      <td>TD6S-F1</td>\n",
       "      <td>New Zealand</td>\n",
       "    </tr>\n",
       "    <tr>\n",
       "      <th>4</th>\n",
       "      <td>TD6W-F1</td>\n",
       "      <td>New Zealand</td>\n",
       "    </tr>\n",
       "    <tr>\n",
       "      <th>...</th>\n",
       "      <td>...</td>\n",
       "      <td>...</td>\n",
       "    </tr>\n",
       "    <tr>\n",
       "      <th>1659</th>\n",
       "      <td>LFC2C19</td>\n",
       "      <td>Australia,New Zealand</td>\n",
       "    </tr>\n",
       "    <tr>\n",
       "      <th>1660</th>\n",
       "      <td>LFC2C19B</td>\n",
       "      <td>Australia,New Zealand</td>\n",
       "    </tr>\n",
       "    <tr>\n",
       "      <th>1661</th>\n",
       "      <td>LFC2C19X</td>\n",
       "      <td>Australia,New Zealand</td>\n",
       "    </tr>\n",
       "    <tr>\n",
       "      <th>1662</th>\n",
       "      <td>AK-DW12PB</td>\n",
       "      <td>Australia,Fiji,New Zealand</td>\n",
       "    </tr>\n",
       "    <tr>\n",
       "      <th>1663</th>\n",
       "      <td>OFI101X</td>\n",
       "      <td>Australia,New Zealand</td>\n",
       "    </tr>\n",
       "  </tbody>\n",
       "</table>\n",
       "<p>1664 rows × 2 columns</p>\n",
       "</div>"
      ],
      "text/plain": [
       "       Model No                     Sold_in\n",
       "0       TD6W-F1                 New Zealand\n",
       "1       TD6S-F1                 New Zealand\n",
       "2       TD6W-F1                 New Zealand\n",
       "3       TD6S-F1                 New Zealand\n",
       "4       TD6W-F1                 New Zealand\n",
       "...         ...                         ...\n",
       "1659    LFC2C19       Australia,New Zealand\n",
       "1660   LFC2C19B       Australia,New Zealand\n",
       "1661   LFC2C19X       Australia,New Zealand\n",
       "1662  AK-DW12PB  Australia,Fiji,New Zealand\n",
       "1663    OFI101X       Australia,New Zealand\n",
       "\n",
       "[1664 rows x 2 columns]"
      ]
     },
     "execution_count": 12,
     "metadata": {},
     "output_type": "execute_result"
    }
   ],
   "source": [
    "# Displaying the columns that contains null values\n",
    "dishwasher_df.loc[:, dishwasher_df.isnull().any()]"
   ]
  },
  {
   "cell_type": "markdown",
   "id": "49ae8267",
   "metadata": {},
   "source": [
    "**4. Clothes washer**"
   ]
  },
  {
   "cell_type": "code",
   "execution_count": 13,
   "id": "234cee86",
   "metadata": {},
   "outputs": [
    {
     "data": {
      "text/plain": [
       "Index(['ApplStandard', 'Brand', 'Cap', 'Cap (Second Drum)', 'CEC Cold',\n",
       "       'CEC Cold (Second Drum)', 'CEC_', 'CEC_ (Second Drum)', 'Cold Prog',\n",
       "       'Cold Prog (Second Drum)', 'Cold Wat Cons',\n",
       "       'Cold Wat Cons (Second Drum)', 'Combination',\n",
       "       'Combination (Second Drum)', 'Conn_Mode', 'Conn_Mode (Second Drum)',\n",
       "       'Country', 'delayStartMode', 'delayStartMode (Second Drum)', 'Depth',\n",
       "       'Depth (Second Drum)', 'DetergentType', 'DetergentType (Second Drum)',\n",
       "       'Height', 'Height (Second Drum)', 'Hot Wat Cons',\n",
       "       'Hot Wat Cons (Second Drum)', 'internal_heater',\n",
       "       'internal_heater (Second Drum)', 'Loading', 'Loading (Second Drum)',\n",
       "       'MachineAction', 'MachineAction (Second Drum)', 'Model No',\n",
       "       'Family Name', 'N-Standard', 'New SRI', 'New SRI (Second Drum)',\n",
       "       'New Star', 'New Star (Second Drum)', 'postProgenergy',\n",
       "       'postProgenergy (Second Drum)', 'powerConsMode',\n",
       "       'powerConsMode (Second Drum)', 'Prog Name', 'Prog Name (Second Drum)',\n",
       "       'Sold_in', 'standbyPowerUsage', 'standbyPowerUsage (Second Drum)',\n",
       "       'Submit_ID', 'SubmitStatus', 'Test Prog Time',\n",
       "       'Test Prog Time (Second Drum)', 'Tot Wat Cons',\n",
       "       'Tot Wat Cons (Second Drum)', 'Type', 'Type (Second Drum)', 'WEI',\n",
       "       'WEI (Second Drum)', 'Width', 'Width (Second Drum)', 'ExpDate',\n",
       "       'GrandDate', 'Product Class', 'Availability Status', 'Product Website',\n",
       "       'Representative Brand URL', 'Program Time',\n",
       "       'Program Time (Second Drum)', 'Hot Water (L)',\n",
       "       'Hot Water (L) (Second Drum)', 'Cold Water (L)',\n",
       "       'Cold Water (L) (Second Drum)', 'Star Rating (old)', 'Star Image Large',\n",
       "       'Star Image Large (Second Drum)', 'Star Image Small',\n",
       "       'Star Image Small (Second Drum)', 'Registration Number'],\n",
       "      dtype='object')"
      ]
     },
     "execution_count": 13,
     "metadata": {},
     "output_type": "execute_result"
    }
   ],
   "source": [
    "\"\"\"\n",
    "Columns to be selected - Brand, Country, Sold_in, Type, Model No, New Star, CEC Cold, CEC_\n",
    "\"\"\"\n",
    "\n",
    "clotheswasher_df_original.columns"
   ]
  },
  {
   "cell_type": "code",
   "execution_count": 14,
   "id": "3e899ec2",
   "metadata": {},
   "outputs": [
    {
     "data": {
      "text/plain": [
       "Index(['Brand', 'Country', 'Sold_in', 'Type', 'Model No', 'New Star',\n",
       "       'CEC Cold', 'CEC_'],\n",
       "      dtype='object')"
      ]
     },
     "execution_count": 14,
     "metadata": {},
     "output_type": "execute_result"
    }
   ],
   "source": [
    "# Extracting only the required columns\n",
    "clotheswasher_df = clotheswasher_df_original[['Brand', 'Country', 'Sold_in', 'Type', 'Model No', 'New Star',\n",
    "                                             'CEC Cold', 'CEC_']]\n",
    "clotheswasher_df.columns"
   ]
  },
  {
   "cell_type": "code",
   "execution_count": 15,
   "id": "bee27d40",
   "metadata": {},
   "outputs": [
    {
     "data": {
      "text/html": [
       "<div>\n",
       "<style scoped>\n",
       "    .dataframe tbody tr th:only-of-type {\n",
       "        vertical-align: middle;\n",
       "    }\n",
       "\n",
       "    .dataframe tbody tr th {\n",
       "        vertical-align: top;\n",
       "    }\n",
       "\n",
       "    .dataframe thead th {\n",
       "        text-align: right;\n",
       "    }\n",
       "</style>\n",
       "<table border=\"1\" class=\"dataframe\">\n",
       "  <thead>\n",
       "    <tr style=\"text-align: right;\">\n",
       "      <th></th>\n",
       "      <th>Sold_in</th>\n",
       "    </tr>\n",
       "  </thead>\n",
       "  <tbody>\n",
       "    <tr>\n",
       "      <th>0</th>\n",
       "      <td>New Zealand</td>\n",
       "    </tr>\n",
       "    <tr>\n",
       "      <th>1</th>\n",
       "      <td>New Zealand</td>\n",
       "    </tr>\n",
       "    <tr>\n",
       "      <th>2</th>\n",
       "      <td>New Zealand</td>\n",
       "    </tr>\n",
       "    <tr>\n",
       "      <th>3</th>\n",
       "      <td>New Zealand</td>\n",
       "    </tr>\n",
       "    <tr>\n",
       "      <th>4</th>\n",
       "      <td>New Zealand</td>\n",
       "    </tr>\n",
       "    <tr>\n",
       "      <th>...</th>\n",
       "      <td>...</td>\n",
       "    </tr>\n",
       "    <tr>\n",
       "      <th>1130</th>\n",
       "      <td>Australia,Fiji,New Zealand</td>\n",
       "    </tr>\n",
       "    <tr>\n",
       "      <th>1131</th>\n",
       "      <td>Australia,Fiji,New Zealand</td>\n",
       "    </tr>\n",
       "    <tr>\n",
       "      <th>1132</th>\n",
       "      <td>Australia,Fiji,New Zealand</td>\n",
       "    </tr>\n",
       "    <tr>\n",
       "      <th>1133</th>\n",
       "      <td>Australia,Fiji,New Zealand</td>\n",
       "    </tr>\n",
       "    <tr>\n",
       "      <th>1134</th>\n",
       "      <td>Australia,Fiji,New Zealand</td>\n",
       "    </tr>\n",
       "  </tbody>\n",
       "</table>\n",
       "<p>1135 rows × 1 columns</p>\n",
       "</div>"
      ],
      "text/plain": [
       "                         Sold_in\n",
       "0                    New Zealand\n",
       "1                    New Zealand\n",
       "2                    New Zealand\n",
       "3                    New Zealand\n",
       "4                    New Zealand\n",
       "...                          ...\n",
       "1130  Australia,Fiji,New Zealand\n",
       "1131  Australia,Fiji,New Zealand\n",
       "1132  Australia,Fiji,New Zealand\n",
       "1133  Australia,Fiji,New Zealand\n",
       "1134  Australia,Fiji,New Zealand\n",
       "\n",
       "[1135 rows x 1 columns]"
      ]
     },
     "execution_count": 15,
     "metadata": {},
     "output_type": "execute_result"
    }
   ],
   "source": [
    "# Displaying the columns that contains null values\n",
    "clotheswasher_df.loc[:, clotheswasher_df.isnull().any()]"
   ]
  },
  {
   "cell_type": "markdown",
   "id": "96ce053c",
   "metadata": {},
   "source": [
    "**5. Refrigerator**"
   ]
  },
  {
   "cell_type": "code",
   "execution_count": 16,
   "id": "04aab2b8",
   "metadata": {},
   "outputs": [
    {
     "data": {
      "text/plain": [
       "Index(['Adaptive Defrost', 'ApplStandard', 'Brand', 'CEC_', 'CompartGrVol',\n",
       "       'CompartNetVol', 'CompartType', 'Configuration', 'Country', 'Depth',\n",
       "       'Designation', 'FF Vol', 'FZ Vol', 'Group', 'Height', 'Icemaker',\n",
       "       'MEPSApproval', 'Model No', 'Family Name', 'N-Standard', 'Star2009',\n",
       "       'SRI2009', 'No_Doors', 'S-MEPS_Ad', 'S-MEPScutoff', 'Sold_in',\n",
       "       'Submit_ID', 'SubmitStatus', 'Tot Vol', 'Width', 'ExpDate', 'GrandDate',\n",
       "       'Product Class', 'Availability Status', 'Product Website',\n",
       "       'Representative Brand URL', 'Fixed MEPS allowance factor',\n",
       "       'Variable MEPS allowance factor', 'Adjusted volume', 'Type',\n",
       "       'Star Rating (old)', 'Star Image Large', 'Star Image Small',\n",
       "       'Registration Number'],\n",
       "      dtype='object')"
      ]
     },
     "execution_count": 16,
     "metadata": {},
     "output_type": "execute_result"
    }
   ],
   "source": [
    "\"\"\"\n",
    "Columns to be used - Brand,  Country, Model No, Type,  Star2009, Sold_in, CEC_\n",
    "\"\"\"\n",
    "refrigerator_df_original.columns"
   ]
  },
  {
   "cell_type": "code",
   "execution_count": 17,
   "id": "d47790a6",
   "metadata": {},
   "outputs": [
    {
     "data": {
      "text/plain": [
       "Index(['Brand', 'Country', 'Model No', 'Type', 'Star2009', 'Sold_in', 'CEC_'], dtype='object')"
      ]
     },
     "execution_count": 17,
     "metadata": {},
     "output_type": "execute_result"
    }
   ],
   "source": [
    "# Extracting only the required columns\n",
    "refrigerator_df = refrigerator_df_original[['Brand', 'Country', 'Model No', 'Type', 'Star2009', \n",
    "                                            'Sold_in', 'CEC_']]\n",
    "refrigerator_df.columns"
   ]
  },
  {
   "cell_type": "code",
   "execution_count": 18,
   "id": "4c981a86",
   "metadata": {},
   "outputs": [
    {
     "data": {
      "text/html": [
       "<div>\n",
       "<style scoped>\n",
       "    .dataframe tbody tr th:only-of-type {\n",
       "        vertical-align: middle;\n",
       "    }\n",
       "\n",
       "    .dataframe tbody tr th {\n",
       "        vertical-align: top;\n",
       "    }\n",
       "\n",
       "    .dataframe thead th {\n",
       "        text-align: right;\n",
       "    }\n",
       "</style>\n",
       "<table border=\"1\" class=\"dataframe\">\n",
       "  <thead>\n",
       "    <tr style=\"text-align: right;\">\n",
       "      <th></th>\n",
       "      <th>Country</th>\n",
       "      <th>Model No</th>\n",
       "      <th>Sold_in</th>\n",
       "    </tr>\n",
       "  </thead>\n",
       "  <tbody>\n",
       "    <tr>\n",
       "      <th>0</th>\n",
       "      <td>China</td>\n",
       "      <td>FAU80</td>\n",
       "      <td>New Zealand</td>\n",
       "    </tr>\n",
       "    <tr>\n",
       "      <th>1</th>\n",
       "      <td>China</td>\n",
       "      <td>FAU50</td>\n",
       "      <td>New Zealand</td>\n",
       "    </tr>\n",
       "    <tr>\n",
       "      <th>2</th>\n",
       "      <td>Greece</td>\n",
       "      <td>KAKGU4001</td>\n",
       "      <td>New Zealand</td>\n",
       "    </tr>\n",
       "    <tr>\n",
       "      <th>3</th>\n",
       "      <td>Greece</td>\n",
       "      <td>KGU40121</td>\n",
       "      <td>New Zealand</td>\n",
       "    </tr>\n",
       "    <tr>\n",
       "      <th>4</th>\n",
       "      <td>Greece</td>\n",
       "      <td>KAKGU4001</td>\n",
       "      <td>Australia,New Zealand</td>\n",
       "    </tr>\n",
       "    <tr>\n",
       "      <th>...</th>\n",
       "      <td>...</td>\n",
       "      <td>...</td>\n",
       "      <td>...</td>\n",
       "    </tr>\n",
       "    <tr>\n",
       "      <th>5222</th>\n",
       "      <td>China</td>\n",
       "      <td>ED-RFFD473SS.2</td>\n",
       "      <td>New Zealand</td>\n",
       "    </tr>\n",
       "    <tr>\n",
       "      <th>5223</th>\n",
       "      <td>South Korea</td>\n",
       "      <td>SRLX4100N</td>\n",
       "      <td>Australia,Fiji,New Zealand</td>\n",
       "    </tr>\n",
       "    <tr>\n",
       "      <th>5224</th>\n",
       "      <td>China</td>\n",
       "      <td>PLA1355</td>\n",
       "      <td>Fiji</td>\n",
       "    </tr>\n",
       "    <tr>\n",
       "      <th>5225</th>\n",
       "      <td>China</td>\n",
       "      <td>PLA1710</td>\n",
       "      <td>New Zealand</td>\n",
       "    </tr>\n",
       "    <tr>\n",
       "      <th>5226</th>\n",
       "      <td>China</td>\n",
       "      <td>AK-688-CF</td>\n",
       "      <td>Australia,Fiji,New Zealand</td>\n",
       "    </tr>\n",
       "  </tbody>\n",
       "</table>\n",
       "<p>5227 rows × 3 columns</p>\n",
       "</div>"
      ],
      "text/plain": [
       "          Country        Model No                     Sold_in\n",
       "0           China           FAU80                 New Zealand\n",
       "1           China           FAU50                 New Zealand\n",
       "2          Greece       KAKGU4001                 New Zealand\n",
       "3          Greece        KGU40121                 New Zealand\n",
       "4          Greece       KAKGU4001       Australia,New Zealand\n",
       "...           ...             ...                         ...\n",
       "5222        China  ED-RFFD473SS.2                 New Zealand\n",
       "5223  South Korea       SRLX4100N  Australia,Fiji,New Zealand\n",
       "5224        China         PLA1355                        Fiji\n",
       "5225        China         PLA1710                 New Zealand\n",
       "5226        China       AK-688-CF  Australia,Fiji,New Zealand\n",
       "\n",
       "[5227 rows x 3 columns]"
      ]
     },
     "execution_count": 18,
     "metadata": {},
     "output_type": "execute_result"
    }
   ],
   "source": [
    "# Displaying the columns that contains null values\n",
    "refrigerator_df.loc[:, refrigerator_df.isnull().any()]"
   ]
  },
  {
   "cell_type": "markdown",
   "id": "2189d835",
   "metadata": {},
   "source": [
    "**6. Television**"
   ]
  },
  {
   "cell_type": "code",
   "execution_count": 19,
   "id": "e8489f4e",
   "metadata": {},
   "outputs": [
    {
     "data": {
      "text/plain": [
       "Index(['Submit_ID', 'Brand_Reg', 'Model_No', 'Family Name', 'SoldIn',\n",
       "       'Country', 'screensize', 'Screen_Area', 'Screen_Tech',\n",
       "       'Pasv_stnd_power', 'Act_stnd_power', 'Act_stnd_time', 'Avg_mode_power',\n",
       "       'Star', 'SRI', 'CEC', 'SubmitStatus', 'ExpDate', 'GrandDate',\n",
       "       'Product Class', 'Availability Status', 'Star2', 'Product Website',\n",
       "       'Representative Brand URL', 'Star Rating Index', 'Star Image Large',\n",
       "       'Star Image Small', 'Power supply', 'Tuner Type',\n",
       "       'What test standard was used', 'Registration Number'],\n",
       "      dtype='object')"
      ]
     },
     "execution_count": 19,
     "metadata": {},
     "output_type": "execute_result"
    }
   ],
   "source": [
    "\"\"\"\n",
    "Columns to be used - Brand_Reg, Model No, SoldIn, Country,  Screen_Tech, Star2, CEC \n",
    "\"\"\"\n",
    "television_df_original.columns"
   ]
  },
  {
   "cell_type": "code",
   "execution_count": 20,
   "id": "5d7a24b3",
   "metadata": {},
   "outputs": [
    {
     "data": {
      "text/plain": [
       "Index(['Brand_Reg', 'Model_No', 'SoldIn', 'Country', 'Screen_Tech', 'Star2',\n",
       "       'CEC'],\n",
       "      dtype='object')"
      ]
     },
     "execution_count": 20,
     "metadata": {},
     "output_type": "execute_result"
    }
   ],
   "source": [
    "# Extracting only the required columns\n",
    "television_df = television_df_original[['Brand_Reg', 'Model_No', 'SoldIn', 'Country','Screen_Tech', 'Star2', 'CEC']]\n",
    "television_df.columns"
   ]
  },
  {
   "cell_type": "code",
   "execution_count": 21,
   "id": "14c5198b",
   "metadata": {},
   "outputs": [
    {
     "data": {
      "text/html": [
       "<div>\n",
       "<style scoped>\n",
       "    .dataframe tbody tr th:only-of-type {\n",
       "        vertical-align: middle;\n",
       "    }\n",
       "\n",
       "    .dataframe tbody tr th {\n",
       "        vertical-align: top;\n",
       "    }\n",
       "\n",
       "    .dataframe thead th {\n",
       "        text-align: right;\n",
       "    }\n",
       "</style>\n",
       "<table border=\"1\" class=\"dataframe\">\n",
       "  <thead>\n",
       "    <tr style=\"text-align: right;\">\n",
       "      <th></th>\n",
       "      <th>Model_No</th>\n",
       "      <th>SoldIn</th>\n",
       "    </tr>\n",
       "  </thead>\n",
       "  <tbody>\n",
       "    <tr>\n",
       "      <th>0</th>\n",
       "      <td>32D6</td>\n",
       "      <td>Australia,New Zealand</td>\n",
       "    </tr>\n",
       "    <tr>\n",
       "      <th>1</th>\n",
       "      <td>LCDV1500DT</td>\n",
       "      <td>New Zealand</td>\n",
       "    </tr>\n",
       "    <tr>\n",
       "      <th>2</th>\n",
       "      <td>LEDV2205DT</td>\n",
       "      <td>New Zealand</td>\n",
       "    </tr>\n",
       "    <tr>\n",
       "      <th>3</th>\n",
       "      <td>LEDV1905DT</td>\n",
       "      <td>New Zealand</td>\n",
       "    </tr>\n",
       "    <tr>\n",
       "      <th>4</th>\n",
       "      <td>LEDV2405DT</td>\n",
       "      <td>New Zealand</td>\n",
       "    </tr>\n",
       "    <tr>\n",
       "      <th>...</th>\n",
       "      <td>...</td>\n",
       "      <td>...</td>\n",
       "    </tr>\n",
       "    <tr>\n",
       "      <th>4016</th>\n",
       "      <td>55X8HAU</td>\n",
       "      <td>Australia,New Zealand</td>\n",
       "    </tr>\n",
       "    <tr>\n",
       "      <th>4017</th>\n",
       "      <td>65X9HAU</td>\n",
       "      <td>Australia,New Zealand</td>\n",
       "    </tr>\n",
       "    <tr>\n",
       "      <th>4018</th>\n",
       "      <td>98U7HAU</td>\n",
       "      <td>Australia,New Zealand</td>\n",
       "    </tr>\n",
       "    <tr>\n",
       "      <th>4019</th>\n",
       "      <td>98U7HNZ</td>\n",
       "      <td>Australia,New Zealand</td>\n",
       "    </tr>\n",
       "    <tr>\n",
       "      <th>4020</th>\n",
       "      <td>98U7H series</td>\n",
       "      <td>Australia,New Zealand</td>\n",
       "    </tr>\n",
       "  </tbody>\n",
       "</table>\n",
       "<p>4021 rows × 2 columns</p>\n",
       "</div>"
      ],
      "text/plain": [
       "          Model_No                 SoldIn\n",
       "0             32D6  Australia,New Zealand\n",
       "1       LCDV1500DT            New Zealand\n",
       "2       LEDV2205DT            New Zealand\n",
       "3       LEDV1905DT            New Zealand\n",
       "4       LEDV2405DT            New Zealand\n",
       "...            ...                    ...\n",
       "4016       55X8HAU  Australia,New Zealand\n",
       "4017       65X9HAU  Australia,New Zealand\n",
       "4018       98U7HAU  Australia,New Zealand\n",
       "4019       98U7HNZ  Australia,New Zealand\n",
       "4020  98U7H series  Australia,New Zealand\n",
       "\n",
       "[4021 rows x 2 columns]"
      ]
     },
     "execution_count": 21,
     "metadata": {},
     "output_type": "execute_result"
    }
   ],
   "source": [
    "# Displaying the columns that contains null values\n",
    "television_df.loc[:, television_df.isnull().any()]"
   ]
  },
  {
   "cell_type": "markdown",
   "id": "e3fc29b0",
   "metadata": {},
   "source": [
    "**7. Computer Monitors**"
   ]
  },
  {
   "cell_type": "code",
   "execution_count": 22,
   "id": "32d8d4c1",
   "metadata": {},
   "outputs": [
    {
     "data": {
      "text/plain": [
       "Index(['Record ID', 'Status', 'Brand Name', 'Model Number', 'Family Name',\n",
       "       'Selling Countries', 'Manufacturing Countries', 'Screen Size',\n",
       "       'Screen Technology', 'Comparative Energy Consumption',\n",
       "       'Active Standby Power', 'Star Rating Index', 'Star Rating',\n",
       "       'Product Website', 'Representative Brand URL', 'Availability Status',\n",
       "       'Expiry Date', 'Star Image Large', 'Star Image Small'],\n",
       "      dtype='object')"
      ]
     },
     "execution_count": 22,
     "metadata": {},
     "output_type": "execute_result"
    }
   ],
   "source": [
    "\"\"\"\n",
    "Columns to be used - Brand Name, Model Number, Manufacturing Countries,  Star Rating, Selling Countries,\n",
    "Screen Technology, Comparative Energy Consumption\n",
    "\"\"\"\n",
    "computer_df_original.columns"
   ]
  },
  {
   "cell_type": "code",
   "execution_count": 23,
   "id": "85b614ab",
   "metadata": {},
   "outputs": [
    {
     "data": {
      "text/plain": [
       "Index(['Brand Name', 'Model Number', 'Manufacturing Countries', 'Star Rating',\n",
       "       'Selling Countries', 'Screen Technology',\n",
       "       'Comparative Energy Consumption'],\n",
       "      dtype='object')"
      ]
     },
     "execution_count": 23,
     "metadata": {},
     "output_type": "execute_result"
    }
   ],
   "source": [
    "# Extracting only the required columns\n",
    "computer_df = computer_df_original[['Brand Name', 'Model Number', 'Manufacturing Countries', 'Star Rating',\n",
    "                                    'Selling Countries', 'Screen Technology', 'Comparative Energy Consumption']]\n",
    "computer_df.columns\n"
   ]
  },
  {
   "cell_type": "code",
   "execution_count": 24,
   "id": "a8324206",
   "metadata": {},
   "outputs": [
    {
     "data": {
      "text/html": [
       "<div>\n",
       "<style scoped>\n",
       "    .dataframe tbody tr th:only-of-type {\n",
       "        vertical-align: middle;\n",
       "    }\n",
       "\n",
       "    .dataframe tbody tr th {\n",
       "        vertical-align: top;\n",
       "    }\n",
       "\n",
       "    .dataframe thead th {\n",
       "        text-align: right;\n",
       "    }\n",
       "</style>\n",
       "<table border=\"1\" class=\"dataframe\">\n",
       "  <thead>\n",
       "    <tr style=\"text-align: right;\">\n",
       "      <th></th>\n",
       "      <th>Selling Countries</th>\n",
       "    </tr>\n",
       "  </thead>\n",
       "  <tbody>\n",
       "    <tr>\n",
       "      <th>0</th>\n",
       "      <td>Australia,New Zealand</td>\n",
       "    </tr>\n",
       "    <tr>\n",
       "      <th>1</th>\n",
       "      <td>Australia,New Zealand</td>\n",
       "    </tr>\n",
       "    <tr>\n",
       "      <th>2</th>\n",
       "      <td>Australia,New Zealand</td>\n",
       "    </tr>\n",
       "    <tr>\n",
       "      <th>3</th>\n",
       "      <td>Australia,Fiji,New Zealand</td>\n",
       "    </tr>\n",
       "    <tr>\n",
       "      <th>4</th>\n",
       "      <td>Australia,New Zealand</td>\n",
       "    </tr>\n",
       "    <tr>\n",
       "      <th>...</th>\n",
       "      <td>...</td>\n",
       "    </tr>\n",
       "    <tr>\n",
       "      <th>2546</th>\n",
       "      <td>Australia,Fiji,New Zealand</td>\n",
       "    </tr>\n",
       "    <tr>\n",
       "      <th>2547</th>\n",
       "      <td>Australia,Fiji,New Zealand</td>\n",
       "    </tr>\n",
       "    <tr>\n",
       "      <th>2548</th>\n",
       "      <td>Australia,Fiji,New Zealand</td>\n",
       "    </tr>\n",
       "    <tr>\n",
       "      <th>2549</th>\n",
       "      <td>Australia,Fiji,New Zealand</td>\n",
       "    </tr>\n",
       "    <tr>\n",
       "      <th>2550</th>\n",
       "      <td>Australia,New Zealand</td>\n",
       "    </tr>\n",
       "  </tbody>\n",
       "</table>\n",
       "<p>2551 rows × 1 columns</p>\n",
       "</div>"
      ],
      "text/plain": [
       "               Selling Countries\n",
       "0          Australia,New Zealand\n",
       "1          Australia,New Zealand\n",
       "2          Australia,New Zealand\n",
       "3     Australia,Fiji,New Zealand\n",
       "4          Australia,New Zealand\n",
       "...                          ...\n",
       "2546  Australia,Fiji,New Zealand\n",
       "2547  Australia,Fiji,New Zealand\n",
       "2548  Australia,Fiji,New Zealand\n",
       "2549  Australia,Fiji,New Zealand\n",
       "2550       Australia,New Zealand\n",
       "\n",
       "[2551 rows x 1 columns]"
      ]
     },
     "execution_count": 24,
     "metadata": {},
     "output_type": "execute_result"
    }
   ],
   "source": [
    "# Displaying the columns that contains null values\n",
    "computer_df.loc[:, computer_df.isnull().any()]"
   ]
  },
  {
   "cell_type": "markdown",
   "id": "a4b4c8cf",
   "metadata": {},
   "source": [
    "**Adding a new column for appliance category codes**"
   ]
  },
  {
   "cell_type": "code",
   "execution_count": 25,
   "id": "4d42274c",
   "metadata": {},
   "outputs": [],
   "source": [
    "\"\"\"\n",
    "A new column is created to maintain code for every appliance. \n",
    "This would help to identify the appliance once after merging all the individual dataframes.\n",
    "\"\"\"\n",
    "air_conditioner_df = air_conditioner_df.assign(Appliance_Category = 'AC')\n",
    "clothes_dryer_df = clothes_dryer_df.assign(Appliance_Category = 'CD')\n",
    "dishwasher_df = dishwasher_df.assign(Appliance_Category = 'DW')\n",
    "clotheswasher_df = clotheswasher_df.assign(Appliance_Category = 'CW')\n",
    "refrigerator_df = refrigerator_df.assign(Appliance_Category = 'RF')\n",
    "television_df = television_df.assign(Appliance_Category = 'TV')\n",
    "computer_df = computer_df.assign(Appliance_Category = 'CM')"
   ]
  },
  {
   "cell_type": "code",
   "execution_count": 26,
   "id": "bfb0b0d4",
   "metadata": {},
   "outputs": [
    {
     "data": {
      "text/plain": [
       "Index(['Model_No', 'Brand', 'Country', 'Sold_in', 'Type', 'EER',\n",
       "       'Rated heating power input kW', 'Rated cooling power input kW',\n",
       "       'Appliance_Category'],\n",
       "      dtype='object')"
      ]
     },
     "execution_count": 26,
     "metadata": {},
     "output_type": "execute_result"
    }
   ],
   "source": [
    "air_conditioner_df.columns"
   ]
  },
  {
   "cell_type": "markdown",
   "id": "313b77a8",
   "metadata": {},
   "source": [
    "**Renaming the column names to manintain common standard**  \n",
    "The cloumn names are  \n",
    "Model_No, Manufacturing_Country, Selling_Countries, Energy_Rating, Type, Brand"
   ]
  },
  {
   "cell_type": "code",
   "execution_count": 27,
   "id": "d0053ac1",
   "metadata": {},
   "outputs": [],
   "source": [
    "# Renaming columns to maintain a standard format when combining all the appliance dataset\n",
    "\n",
    "air_conditioner_df.rename({'Country' : 'Manufacturing_Country', 'Sold_in' : 'Selling_Countries', \n",
    "                           'EER' : 'Energy_Rating', 'Rated heating power input kW' : 'Heating Power KW',\n",
    "                          'Rated cooling power input kW' : 'Cooling Power KW'}, axis = 1, inplace=True)\n",
    "\n",
    "clothes_dryer_df.rename({'Model No' : 'Model_No','Country' : 'Manufacturing_Country', \n",
    "                         'Sold_in' : 'Selling_Countries', 'New CEC' : 'Energy_Consumption',\n",
    "                           'New Star' : 'Energy_Rating'}, axis = 1, inplace=True)\n",
    "\n",
    "dishwasher_df.rename({'Model No' : 'Model_No','Country' : 'Manufacturing_Country',\n",
    "                      'Sold_in' : 'Selling_Countries', 'CEC_' : 'Energy_Consumption', \n",
    "                           'New Star' : 'Energy_Rating'}, axis = 1, inplace=True)\n",
    "\n",
    "clotheswasher_df.rename({'Model No' : 'Model_No','Country' : 'Manufacturing_Country', \n",
    "                         'Sold_in' : 'Selling_Countries', 'CEC Cold' : 'Cold_Energy_Consumption', \n",
    "                           'New Star' : 'Energy_Rating', 'CEC_' : 'Heat_Energy_Consumption'}, axis = 1, inplace=True)\n",
    "\n",
    "refrigerator_df.rename({'Model No' : 'Model_No','Country' : 'Manufacturing_Country', \n",
    "                        'Sold_in' : 'Selling_Countries', 'CEC_' : 'Energy_Consumption',\n",
    "                           'Star2009' : 'Energy_Rating'}, axis = 1, inplace=True)\n",
    "\n",
    "television_df.rename({'Brand_Reg' : 'Brand','Country' : 'Manufacturing_Country',\n",
    "                      'SoldIn' : 'Selling_Countries', 'CEC' : 'Energy_Consumption',\n",
    "                           'Star2' : 'Energy_Rating', 'Screen_Tech' : 'Type'}, axis = 1, inplace=True)\n",
    "\n",
    "computer_df.rename({'Brand Name' : 'Brand','Model Number' : 'Model_No',\n",
    "                    'Manufacturing Countries' : 'Manufacturing_Country', \n",
    "                    'Selling Countries' : 'Selling_Countries', 'Star Rating' : 'Energy_Rating', \n",
    "                    'Screen Technology' : 'Type','Comparative Energy Consumption': 'Energy_Consumption'}, \n",
    "                   axis = 1, inplace=True)"
   ]
  },
  {
   "cell_type": "code",
   "execution_count": 28,
   "id": "ba702512",
   "metadata": {},
   "outputs": [
    {
     "data": {
      "text/html": [
       "<div>\n",
       "<style scoped>\n",
       "    .dataframe tbody tr th:only-of-type {\n",
       "        vertical-align: middle;\n",
       "    }\n",
       "\n",
       "    .dataframe tbody tr th {\n",
       "        vertical-align: top;\n",
       "    }\n",
       "\n",
       "    .dataframe thead th {\n",
       "        text-align: right;\n",
       "    }\n",
       "</style>\n",
       "<table border=\"1\" class=\"dataframe\">\n",
       "  <thead>\n",
       "    <tr style=\"text-align: right;\">\n",
       "      <th></th>\n",
       "      <th>Model_No</th>\n",
       "      <th>Brand</th>\n",
       "      <th>Manufacturing_Country</th>\n",
       "      <th>Selling_Countries</th>\n",
       "      <th>Type</th>\n",
       "      <th>Energy_Rating</th>\n",
       "      <th>Heating Power KW</th>\n",
       "      <th>Cooling Power KW</th>\n",
       "      <th>Appliance_Category</th>\n",
       "    </tr>\n",
       "  </thead>\n",
       "  <tbody>\n",
       "    <tr>\n",
       "      <th>0</th>\n",
       "      <td>WZ-28</td>\n",
       "      <td>Air Conditioning Systems</td>\n",
       "      <td>China</td>\n",
       "      <td>Australia,Fiji,New Zealand</td>\n",
       "      <td>Reverse Cycle</td>\n",
       "      <td>2.780</td>\n",
       "      <td>0.87</td>\n",
       "      <td>0.91</td>\n",
       "      <td>AC</td>\n",
       "    </tr>\n",
       "    <tr>\n",
       "      <th>1</th>\n",
       "      <td>MSZ-GE50VA</td>\n",
       "      <td>MITSUBISHI ELECTRIC</td>\n",
       "      <td>Thailand</td>\n",
       "      <td>New Zealand</td>\n",
       "      <td>Reverse Cycle</td>\n",
       "      <td>3.121</td>\n",
       "      <td>1.65</td>\n",
       "      <td>1.64</td>\n",
       "      <td>AC</td>\n",
       "    </tr>\n",
       "    <tr>\n",
       "      <th>2</th>\n",
       "      <td>MSZ-GE80VA</td>\n",
       "      <td>MITSUBISHI ELECTRIC</td>\n",
       "      <td>Thailand</td>\n",
       "      <td>New Zealand</td>\n",
       "      <td>Reverse Cycle</td>\n",
       "      <td>3.162</td>\n",
       "      <td>2.54</td>\n",
       "      <td>2.56</td>\n",
       "      <td>AC</td>\n",
       "    </tr>\n",
       "    <tr>\n",
       "      <th>3</th>\n",
       "      <td>MSZ-GE42VA</td>\n",
       "      <td>MITSUBISHI ELECTRIC</td>\n",
       "      <td>Thailand</td>\n",
       "      <td>New Zealand</td>\n",
       "      <td>Reverse Cycle</td>\n",
       "      <td>3.433</td>\n",
       "      <td>1.54</td>\n",
       "      <td>1.26</td>\n",
       "      <td>AC</td>\n",
       "    </tr>\n",
       "    <tr>\n",
       "      <th>4</th>\n",
       "      <td>PCA-RP71HA(Q) / PUHZ-RP71VHA5</td>\n",
       "      <td>MITSUBISHI ELECTRIC</td>\n",
       "      <td>Japan</td>\n",
       "      <td>New Zealand</td>\n",
       "      <td>Reverse Cycle</td>\n",
       "      <td>3.130</td>\n",
       "      <td>2.23</td>\n",
       "      <td>2.21</td>\n",
       "      <td>AC</td>\n",
       "    </tr>\n",
       "  </tbody>\n",
       "</table>\n",
       "</div>"
      ],
      "text/plain": [
       "                        Model_No                     Brand  \\\n",
       "0                          WZ-28  Air Conditioning Systems   \n",
       "1                     MSZ-GE50VA       MITSUBISHI ELECTRIC   \n",
       "2                     MSZ-GE80VA       MITSUBISHI ELECTRIC   \n",
       "3                     MSZ-GE42VA       MITSUBISHI ELECTRIC   \n",
       "4  PCA-RP71HA(Q) / PUHZ-RP71VHA5       MITSUBISHI ELECTRIC   \n",
       "\n",
       "  Manufacturing_Country           Selling_Countries           Type  \\\n",
       "0                 China  Australia,Fiji,New Zealand  Reverse Cycle   \n",
       "1              Thailand                 New Zealand  Reverse Cycle   \n",
       "2              Thailand                 New Zealand  Reverse Cycle   \n",
       "3              Thailand                 New Zealand  Reverse Cycle   \n",
       "4                 Japan                 New Zealand  Reverse Cycle   \n",
       "\n",
       "   Energy_Rating Heating Power KW Cooling Power KW Appliance_Category  \n",
       "0          2.780             0.87             0.91                 AC  \n",
       "1          3.121             1.65             1.64                 AC  \n",
       "2          3.162             2.54             2.56                 AC  \n",
       "3          3.433             1.54             1.26                 AC  \n",
       "4          3.130             2.23             2.21                 AC  "
      ]
     },
     "execution_count": 28,
     "metadata": {},
     "output_type": "execute_result"
    }
   ],
   "source": [
    "air_conditioner_df.head()"
   ]
  },
  {
   "cell_type": "code",
   "execution_count": 29,
   "id": "d8154ca2",
   "metadata": {},
   "outputs": [
    {
     "data": {
      "text/html": [
       "<div>\n",
       "<style scoped>\n",
       "    .dataframe tbody tr th:only-of-type {\n",
       "        vertical-align: middle;\n",
       "    }\n",
       "\n",
       "    .dataframe tbody tr th {\n",
       "        vertical-align: top;\n",
       "    }\n",
       "\n",
       "    .dataframe thead th {\n",
       "        text-align: right;\n",
       "    }\n",
       "</style>\n",
       "<table border=\"1\" class=\"dataframe\">\n",
       "  <thead>\n",
       "    <tr style=\"text-align: right;\">\n",
       "      <th></th>\n",
       "      <th>Brand</th>\n",
       "      <th>Manufacturing_Country</th>\n",
       "      <th>Model_No</th>\n",
       "      <th>Energy_Rating</th>\n",
       "      <th>Selling_Countries</th>\n",
       "      <th>Type</th>\n",
       "      <th>Energy_Consumption</th>\n",
       "      <th>Appliance_Category</th>\n",
       "    </tr>\n",
       "  </thead>\n",
       "  <tbody>\n",
       "    <tr>\n",
       "      <th>10</th>\n",
       "      <td>FISHER &amp; PAYKEL</td>\n",
       "      <td>New Zealand</td>\n",
       "      <td>ED56</td>\n",
       "      <td>1.0</td>\n",
       "      <td>Australia,New Zealand</td>\n",
       "      <td>Vented</td>\n",
       "      <td>227</td>\n",
       "      <td>CD</td>\n",
       "    </tr>\n",
       "    <tr>\n",
       "      <th>11</th>\n",
       "      <td>FISHER &amp; PAYKEL</td>\n",
       "      <td>New Zealand</td>\n",
       "      <td>ED56</td>\n",
       "      <td>2.0</td>\n",
       "      <td>Australia,New Zealand</td>\n",
       "      <td>Vented</td>\n",
       "      <td>202</td>\n",
       "      <td>CD</td>\n",
       "    </tr>\n",
       "    <tr>\n",
       "      <th>15</th>\n",
       "      <td>FISHER &amp; PAYKEL</td>\n",
       "      <td>New Zealand</td>\n",
       "      <td>ED56</td>\n",
       "      <td>2.0</td>\n",
       "      <td>Australia,New Zealand</td>\n",
       "      <td>Vented</td>\n",
       "      <td>202</td>\n",
       "      <td>CD</td>\n",
       "    </tr>\n",
       "    <tr>\n",
       "      <th>31</th>\n",
       "      <td>ASKO</td>\n",
       "      <td>Sweden</td>\n",
       "      <td>ASKO</td>\n",
       "      <td>2.0</td>\n",
       "      <td>New Zealand</td>\n",
       "      <td>Condenser</td>\n",
       "      <td>292</td>\n",
       "      <td>CD</td>\n",
       "    </tr>\n",
       "    <tr>\n",
       "      <th>35</th>\n",
       "      <td>ASKO</td>\n",
       "      <td>Sweden</td>\n",
       "      <td>ASKO</td>\n",
       "      <td>6.0</td>\n",
       "      <td>New Zealand</td>\n",
       "      <td>Condenser</td>\n",
       "      <td>164</td>\n",
       "      <td>CD</td>\n",
       "    </tr>\n",
       "  </tbody>\n",
       "</table>\n",
       "</div>"
      ],
      "text/plain": [
       "              Brand Manufacturing_Country Model_No  Energy_Rating  \\\n",
       "10  FISHER & PAYKEL           New Zealand     ED56            1.0   \n",
       "11  FISHER & PAYKEL           New Zealand     ED56            2.0   \n",
       "15  FISHER & PAYKEL           New Zealand     ED56            2.0   \n",
       "31             ASKO                Sweden     ASKO            2.0   \n",
       "35             ASKO                Sweden     ASKO            6.0   \n",
       "\n",
       "        Selling_Countries       Type  Energy_Consumption Appliance_Category  \n",
       "10  Australia,New Zealand     Vented                 227                 CD  \n",
       "11  Australia,New Zealand     Vented                 202                 CD  \n",
       "15  Australia,New Zealand     Vented                 202                 CD  \n",
       "31            New Zealand  Condenser                 292                 CD  \n",
       "35            New Zealand  Condenser                 164                 CD  "
      ]
     },
     "execution_count": 29,
     "metadata": {},
     "output_type": "execute_result"
    }
   ],
   "source": [
    "clothes_dryer_df[clothes_dryer_df.duplicated(['Model_No'], keep=False)].head()"
   ]
  },
  {
   "cell_type": "code",
   "execution_count": 30,
   "id": "f621fe67",
   "metadata": {},
   "outputs": [
    {
     "data": {
      "text/plain": [
       "array(['Air Conditioning Systems', 'MITSUBISHI ELECTRIC',\n",
       "       'Mitsubishi Electric', 'TOSHIBA', 'GREE', 'TEMPERZONE', 'CAA',\n",
       "       'SPECIALIZED ENGINEERING', 'Brivis', 'Rinnai', 'HELLER',\n",
       "       'ACTRON AIR', 'HITACHI', 'LENNOX', 'CHIGO', 'Clivet', 'TECO',\n",
       "       'Aggreko', 'Diamond', 'MITSUBISHI HEAVY INDUSTRIES',\n",
       "       'MITSUBISHI HEAVY INDUSTRIES LTD.', 'TCL', 'AIRTEMP', 'DAIKIN',\n",
       "       'Tranquility', 'Climatemaster', 'Carrier', 'LG', 'Panasonic',\n",
       "       'Braemar', 'Innova 2.0', 'Toshiba', 'Daewoo',\n",
       "       'PIONEER INTERNATIONAL', 'SEIKI', 'Astivita', 'PANASONIC',\n",
       "       'Domain', 'DIMPLEX', 'Haier', 'KELVINATOR', 'Ilec Appliances',\n",
       "       'EUROMATIC', 'FUJITSU', 'APAC', 'RINNAI', 'Kogan', 'MDV', 'York',\n",
       "       'MIDEA', 'AKAI', 'STIRLING', 'HISENSE', 'KADEN',\n",
       "       'MITSUBISHI HEAVY INDUSTRIES, LTD.', 'IACS', 'SAMSUNG ELECTRONICS',\n",
       "       'SUPEREN', 'POLARIS Technologies', 'ICE Solair', 'GALAXY AIR',\n",
       "       'BONAIRE', 'PROMA', 'BRIVIS', 'Esatto', 'Scandia', 'YORK', 'SHARP',\n",
       "       'Sygnal Ambient Intelligence', 'Coolmaster', 'Olimpia Splendid',\n",
       "       'Omega Altise', 'Daikin', 'Devanti', 'FUJITSU GENERAL', 'SAI HVAC',\n",
       "       \"De'Longhi\", 'Mammoth', 'iZone', 'AstiVita', 'Hyundai', 'Midea',\n",
       "       'Goldair', 'MISTRAL', 'Click', 'Kaden', 'CAELI', 'HYUNDAI',\n",
       "       'KOGAN', 'Arlec', 'Excelair', 'POLO', 'Shinco', 'carson', 'ONIX',\n",
       "       'Yook', 'TRIPP. LITE', 'Prinetti', 'Solt', 'Inalto', 'Dimplex',\n",
       "       'yokohama', 'Deye', 'HONEYWELL', 'Honeywell', 'AIRO', 'Germanica',\n",
       "       'SAMSUNG', 'KAPSUL', 'Sheffield', 'Solar ACDC', 'ELECTROLUX',\n",
       "       'AirSmart', 'CHiQ', 'VOSTOK', 'AURORA', 'TECOAIR', 'AIRSTAGE',\n",
       "       'ewt', 'CLICK', 'EcoFlow', 'Airion', 'SmartUser'], dtype=object)"
      ]
     },
     "execution_count": 30,
     "metadata": {},
     "output_type": "execute_result"
    }
   ],
   "source": [
    "air_conditioner_df['Brand'].unique()"
   ]
  },
  {
   "cell_type": "code",
   "execution_count": 31,
   "id": "19011a0f",
   "metadata": {},
   "outputs": [],
   "source": [
    "# Removing the '-' in Energy_Rating and Energy Consumption attributes\n",
    "refrigerator_df = refrigerator_df[refrigerator_df['Energy_Rating'].str.contains('-')==False]\n",
    "air_conditioner_df = air_conditioner_df[air_conditioner_df['Heating Power KW'].str.contains('-') == False]\n",
    "air_conditioner_df = air_conditioner_df[air_conditioner_df['Cooling Power KW'].str.contains('-') == False]\n"
   ]
  },
  {
   "cell_type": "code",
   "execution_count": 32,
   "id": "ec42eec0",
   "metadata": {},
   "outputs": [],
   "source": [
    "def data_wrangling_process(df):\n",
    "    \"\"\" \n",
    "    Drop all the null values. Because, in most of the cases the null values \n",
    "    appears in columns like selling countries, energy rating and even model_no. \n",
    "    It is hard to perform missing values imputation. Hence, the corresponding records are dropped.\n",
    "    \"\"\"\n",
    "    df = df.dropna()\n",
    "    \n",
    "    # Dropping duplpicated values\n",
    "    df = df.drop_duplicates(subset=['Model_No'])\n",
    "    \n",
    "    # Changing the case format for the Brand\n",
    "    df['Brand'] = (df.apply(lambda x: x['Brand'].title(), axis=1))\n",
    "    \n",
    "    # Remove '*' from the Model_No, to remove duplicated values\n",
    "    df['Model_No'] = df[\"Model_No\"].apply(lambda x: re.sub(\".*[*].*\", 'dropvalues', x))\n",
    "    \n",
    "    # Drop the rows the contains dropvalues as the Model_No\n",
    "    df.loc[df['Model_No'].str.contains('dropvalues')]\n",
    "    df = df[~df.Model_No.str.contains('|'.join('dropvalues'))]\n",
    "    \n",
    "    # Convert the Energy_Rating datatype as float\n",
    "    df['Energy_Rating'] = df.Energy_Rating.astype(float)\n",
    "    \n",
    "    # Extract the records that have Energy_Rating greater than 0\n",
    "    df = df.loc[df['Energy_Rating'] > 0]\n",
    "    \n",
    "    return (df)\n",
    "    "
   ]
  },
  {
   "cell_type": "code",
   "execution_count": 33,
   "id": "dbdaf01c",
   "metadata": {},
   "outputs": [],
   "source": [
    "# Function call to data_wrangling_process()\n",
    "air_conditioner_df = data_wrangling_process(air_conditioner_df)\n",
    "clothes_dryer_df = data_wrangling_process(clothes_dryer_df)\n",
    "dishwasher_df = data_wrangling_process(dishwasher_df)\n",
    "clotheswasher_df = data_wrangling_process(clotheswasher_df)\n",
    "refrigerator_df = data_wrangling_process(refrigerator_df)\n",
    "television_df = data_wrangling_process(television_df)\n",
    "computer_df = data_wrangling_process(computer_df)\n"
   ]
  },
  {
   "cell_type": "markdown",
   "id": "92610f1a",
   "metadata": {},
   "source": [
    "**Merge all the appliance datasets to one**"
   ]
  },
  {
   "cell_type": "code",
   "execution_count": 34,
   "id": "4ae0b7aa",
   "metadata": {},
   "outputs": [],
   "source": [
    "# Columns to be merged \n",
    "columns = ['Brand', 'Model_No', 'Energy_Rating', 'Manufacturing_Country', 'Appliance_Category']"
   ]
  },
  {
   "cell_type": "code",
   "execution_count": 35,
   "id": "4ff061bd",
   "metadata": {},
   "outputs": [],
   "source": [
    "# Concatenating all the individual appliance dataset\n",
    "concat_df = [air_conditioner_df[columns], clothes_dryer_df[columns], dishwasher_df[columns],\n",
    "             clotheswasher_df[columns], refrigerator_df[columns], television_df[columns]]\n",
    "all_appliance_df = pd.concat(concat_df)"
   ]
  },
  {
   "cell_type": "code",
   "execution_count": 36,
   "id": "75afb6e5",
   "metadata": {},
   "outputs": [
    {
     "data": {
      "text/html": [
       "<div>\n",
       "<style scoped>\n",
       "    .dataframe tbody tr th:only-of-type {\n",
       "        vertical-align: middle;\n",
       "    }\n",
       "\n",
       "    .dataframe tbody tr th {\n",
       "        vertical-align: top;\n",
       "    }\n",
       "\n",
       "    .dataframe thead th {\n",
       "        text-align: right;\n",
       "    }\n",
       "</style>\n",
       "<table border=\"1\" class=\"dataframe\">\n",
       "  <thead>\n",
       "    <tr style=\"text-align: right;\">\n",
       "      <th></th>\n",
       "      <th>Brand</th>\n",
       "      <th>Model_No</th>\n",
       "      <th>Energy_Rating</th>\n",
       "      <th>Manufacturing_Country</th>\n",
       "      <th>Appliance_Category</th>\n",
       "    </tr>\n",
       "  </thead>\n",
       "  <tbody>\n",
       "    <tr>\n",
       "      <th>0</th>\n",
       "      <td>Air Conditioning Systems</td>\n",
       "      <td>WZ-28</td>\n",
       "      <td>2.780</td>\n",
       "      <td>China</td>\n",
       "      <td>AC</td>\n",
       "    </tr>\n",
       "    <tr>\n",
       "      <th>1</th>\n",
       "      <td>Mitsubishi Electric</td>\n",
       "      <td>MSZ-GE50VA</td>\n",
       "      <td>3.121</td>\n",
       "      <td>Thailand</td>\n",
       "      <td>AC</td>\n",
       "    </tr>\n",
       "    <tr>\n",
       "      <th>2</th>\n",
       "      <td>Mitsubishi Electric</td>\n",
       "      <td>MSZ-GE80VA</td>\n",
       "      <td>3.162</td>\n",
       "      <td>Thailand</td>\n",
       "      <td>AC</td>\n",
       "    </tr>\n",
       "    <tr>\n",
       "      <th>3</th>\n",
       "      <td>Mitsubishi Electric</td>\n",
       "      <td>MSZ-GE42VA</td>\n",
       "      <td>3.433</td>\n",
       "      <td>Thailand</td>\n",
       "      <td>AC</td>\n",
       "    </tr>\n",
       "    <tr>\n",
       "      <th>4</th>\n",
       "      <td>Mitsubishi Electric</td>\n",
       "      <td>PCA-RP71HA(Q) / PUHZ-RP71VHA5</td>\n",
       "      <td>3.130</td>\n",
       "      <td>Japan</td>\n",
       "      <td>AC</td>\n",
       "    </tr>\n",
       "    <tr>\n",
       "      <th>...</th>\n",
       "      <td>...</td>\n",
       "      <td>...</td>\n",
       "      <td>...</td>\n",
       "      <td>...</td>\n",
       "      <td>...</td>\n",
       "    </tr>\n",
       "    <tr>\n",
       "      <th>4015</th>\n",
       "      <td>Hisense</td>\n",
       "      <td>65X8HAU</td>\n",
       "      <td>6.000</td>\n",
       "      <td>China</td>\n",
       "      <td>TV</td>\n",
       "    </tr>\n",
       "    <tr>\n",
       "      <th>4016</th>\n",
       "      <td>Hisense</td>\n",
       "      <td>55X8HAU</td>\n",
       "      <td>5.000</td>\n",
       "      <td>China</td>\n",
       "      <td>TV</td>\n",
       "    </tr>\n",
       "    <tr>\n",
       "      <th>4017</th>\n",
       "      <td>Hisense</td>\n",
       "      <td>65X9HAU</td>\n",
       "      <td>5.000</td>\n",
       "      <td>China</td>\n",
       "      <td>TV</td>\n",
       "    </tr>\n",
       "    <tr>\n",
       "      <th>4018</th>\n",
       "      <td>Hisense</td>\n",
       "      <td>98U7HAU</td>\n",
       "      <td>5.000</td>\n",
       "      <td>China</td>\n",
       "      <td>TV</td>\n",
       "    </tr>\n",
       "    <tr>\n",
       "      <th>4019</th>\n",
       "      <td>Hisense</td>\n",
       "      <td>98U7HNZ</td>\n",
       "      <td>5.000</td>\n",
       "      <td>China</td>\n",
       "      <td>TV</td>\n",
       "    </tr>\n",
       "  </tbody>\n",
       "</table>\n",
       "<p>12971 rows × 5 columns</p>\n",
       "</div>"
      ],
      "text/plain": [
       "                         Brand                       Model_No  Energy_Rating  \\\n",
       "0     Air Conditioning Systems                          WZ-28          2.780   \n",
       "1          Mitsubishi Electric                     MSZ-GE50VA          3.121   \n",
       "2          Mitsubishi Electric                     MSZ-GE80VA          3.162   \n",
       "3          Mitsubishi Electric                     MSZ-GE42VA          3.433   \n",
       "4          Mitsubishi Electric  PCA-RP71HA(Q) / PUHZ-RP71VHA5          3.130   \n",
       "...                        ...                            ...            ...   \n",
       "4015                   Hisense                        65X8HAU          6.000   \n",
       "4016                   Hisense                        55X8HAU          5.000   \n",
       "4017                   Hisense                        65X9HAU          5.000   \n",
       "4018                   Hisense                        98U7HAU          5.000   \n",
       "4019                   Hisense                        98U7HNZ          5.000   \n",
       "\n",
       "     Manufacturing_Country Appliance_Category  \n",
       "0                    China                 AC  \n",
       "1                 Thailand                 AC  \n",
       "2                 Thailand                 AC  \n",
       "3                 Thailand                 AC  \n",
       "4                    Japan                 AC  \n",
       "...                    ...                ...  \n",
       "4015                 China                 TV  \n",
       "4016                 China                 TV  \n",
       "4017                 China                 TV  \n",
       "4018                 China                 TV  \n",
       "4019                 China                 TV  \n",
       "\n",
       "[12971 rows x 5 columns]"
      ]
     },
     "execution_count": 36,
     "metadata": {},
     "output_type": "execute_result"
    }
   ],
   "source": [
    "# Displaying the combined dataset\n",
    "all_appliance_df"
   ]
  },
  {
   "cell_type": "code",
   "execution_count": 37,
   "id": "8e71e394",
   "metadata": {},
   "outputs": [
    {
     "data": {
      "text/html": [
       "<div>\n",
       "<style scoped>\n",
       "    .dataframe tbody tr th:only-of-type {\n",
       "        vertical-align: middle;\n",
       "    }\n",
       "\n",
       "    .dataframe tbody tr th {\n",
       "        vertical-align: top;\n",
       "    }\n",
       "\n",
       "    .dataframe thead th {\n",
       "        text-align: right;\n",
       "    }\n",
       "</style>\n",
       "<table border=\"1\" class=\"dataframe\">\n",
       "  <thead>\n",
       "    <tr style=\"text-align: right;\">\n",
       "      <th></th>\n",
       "    </tr>\n",
       "  </thead>\n",
       "  <tbody>\n",
       "    <tr>\n",
       "      <th>0</th>\n",
       "    </tr>\n",
       "    <tr>\n",
       "      <th>1</th>\n",
       "    </tr>\n",
       "    <tr>\n",
       "      <th>2</th>\n",
       "    </tr>\n",
       "    <tr>\n",
       "      <th>3</th>\n",
       "    </tr>\n",
       "    <tr>\n",
       "      <th>4</th>\n",
       "    </tr>\n",
       "    <tr>\n",
       "      <th>...</th>\n",
       "    </tr>\n",
       "    <tr>\n",
       "      <th>4015</th>\n",
       "    </tr>\n",
       "    <tr>\n",
       "      <th>4016</th>\n",
       "    </tr>\n",
       "    <tr>\n",
       "      <th>4017</th>\n",
       "    </tr>\n",
       "    <tr>\n",
       "      <th>4018</th>\n",
       "    </tr>\n",
       "    <tr>\n",
       "      <th>4019</th>\n",
       "    </tr>\n",
       "  </tbody>\n",
       "</table>\n",
       "<p>12971 rows × 0 columns</p>\n",
       "</div>"
      ],
      "text/plain": [
       "Empty DataFrame\n",
       "Columns: []\n",
       "Index: [0, 1, 2, 3, 4, 5, 6, 7, 8, 9, 10, 11, 12, 13, 14, 15, 16, 17, 18, 19, 20, 21, 22, 23, 24, 25, 26, 27, 28, 29, 30, 31, 32, 33, 34, 35, 36, 37, 38, 39, 40, 41, 42, 43, 44, 45, 46, 47, 48, 49, 50, 51, 52, 53, 55, 57, 58, 59, 60, 61, 62, 63, 64, 65, 66, 67, 68, 69, 71, 72, 74, 75, 76, 77, 78, 79, 80, 81, 82, 83, 84, 85, 86, 87, 88, 89, 90, 91, 92, 93, 94, 95, 96, 97, 98, 99, 100, 101, 102, 103, ...]\n",
       "\n",
       "[12971 rows x 0 columns]"
      ]
     },
     "execution_count": 37,
     "metadata": {},
     "output_type": "execute_result"
    }
   ],
   "source": [
    "# Checking again if any null values present in the combined one\n",
    "all_appliance_df.loc[:, all_appliance_df.isnull().any()]"
   ]
  },
  {
   "cell_type": "code",
   "execution_count": 38,
   "id": "765d9fb5",
   "metadata": {},
   "outputs": [],
   "source": [
    "# Converting the all_appliances dataframe to a csv file\n",
    "all_appliance_df.to_csv('all_appliances.csv', index=False)"
   ]
  },
  {
   "cell_type": "markdown",
   "id": "3513f383",
   "metadata": {},
   "source": [
    "## User Story 1.4 - Energy Efficient appliances based on Brand"
   ]
  },
  {
   "cell_type": "code",
   "execution_count": 39,
   "id": "880e0d2d",
   "metadata": {},
   "outputs": [],
   "source": [
    "AC_brand_df = air_conditioner_df[columns].sort_values('Energy_Rating', \n",
    "                                        ascending = False).drop_duplicates(\n",
    "                                        subset=['Brand'],keep ='first').head(7)"
   ]
  },
  {
   "cell_type": "code",
   "execution_count": 40,
   "id": "72d19504",
   "metadata": {},
   "outputs": [],
   "source": [
    "CD_brand_df = clothes_dryer_df[columns].sort_values('Energy_Rating', \n",
    "                                        ascending = False).drop_duplicates(\n",
    "                                        subset=['Brand'],keep ='first').head(7)"
   ]
  },
  {
   "cell_type": "code",
   "execution_count": 41,
   "id": "f07b5554",
   "metadata": {},
   "outputs": [],
   "source": [
    "DW_brand_df = dishwasher_df[columns].sort_values('Energy_Rating', \n",
    "                                        ascending = False).drop_duplicates(\n",
    "                                        subset=['Brand'],keep ='first').head(7)"
   ]
  },
  {
   "cell_type": "code",
   "execution_count": 42,
   "id": "7e1e4304",
   "metadata": {},
   "outputs": [],
   "source": [
    "CW_brand_df = clotheswasher_df[columns].sort_values('Energy_Rating', \n",
    "                                        ascending = False).drop_duplicates(\n",
    "                                        subset=['Brand'],keep ='first').head(7)"
   ]
  },
  {
   "cell_type": "code",
   "execution_count": 43,
   "id": "7af1bad2",
   "metadata": {},
   "outputs": [],
   "source": [
    "RF_brand_df = refrigerator_df[columns].sort_values('Energy_Rating', \n",
    "                                        ascending = False).drop_duplicates(\n",
    "                                        subset=['Brand'],keep ='first').head(7)"
   ]
  },
  {
   "cell_type": "code",
   "execution_count": 44,
   "id": "3244610f",
   "metadata": {},
   "outputs": [],
   "source": [
    "TV_brand_df = television_df[columns].sort_values('Energy_Rating', \n",
    "                                        ascending = False).drop_duplicates(\n",
    "                                        subset=['Brand'],keep ='first').head(7)"
   ]
  },
  {
   "cell_type": "code",
   "execution_count": 45,
   "id": "69151e1e",
   "metadata": {},
   "outputs": [],
   "source": [
    "concat_df1 = [AC_brand_df, CD_brand_df, DW_brand_df, CW_brand_df, RF_brand_df, TV_brand_df]\n",
    "brand_df = pd.concat(concat_df1)"
   ]
  },
  {
   "cell_type": "code",
   "execution_count": 46,
   "id": "07b6cf18",
   "metadata": {},
   "outputs": [],
   "source": [
    "brand_df = brand_df[['Brand', 'Energy_Rating', 'Appliance_Category']]"
   ]
  },
  {
   "cell_type": "code",
   "execution_count": 47,
   "id": "13b0ebfa",
   "metadata": {},
   "outputs": [],
   "source": [
    "# Converting all the top 7 brands to a csv file\n",
    "brand_df.to_csv('appliance_brands.csv', index=False)"
   ]
  },
  {
   "cell_type": "markdown",
   "id": "c777aa24",
   "metadata": {},
   "source": [
    "## Epic 3 - Energy Estimator data wrangling "
   ]
  },
  {
   "cell_type": "code",
   "execution_count": 48,
   "id": "2f2c4056",
   "metadata": {},
   "outputs": [],
   "source": [
    "clotheswasher_df = clotheswasher_df[-clotheswasher_df['Cold_Energy_Consumption'].str.contains('-')]"
   ]
  },
  {
   "cell_type": "markdown",
   "id": "d39be8c9",
   "metadata": {},
   "source": [
    "**Clothes Washer** Ratings range from 1 to 5   \n",
    "**Low** - 1 to 2.5  \n",
    "**Medium** - 2.5 to 4   \n",
    "**Best** - 4 to 5  "
   ]
  },
  {
   "cell_type": "code",
   "execution_count": 49,
   "id": "620c98f5",
   "metadata": {},
   "outputs": [
    {
     "data": {
      "text/plain": [
       "Index(['Brand', 'Manufacturing_Country', 'Selling_Countries', 'Type',\n",
       "       'Model_No', 'Energy_Rating', 'Cold_Energy_Consumption',\n",
       "       'Heat_Energy_Consumption', 'Appliance_Category'],\n",
       "      dtype='object')"
      ]
     },
     "execution_count": 49,
     "metadata": {},
     "output_type": "execute_result"
    }
   ],
   "source": [
    "clotheswasher_df.columns"
   ]
  },
  {
   "cell_type": "code",
   "execution_count": 50,
   "id": "3b3ed292",
   "metadata": {},
   "outputs": [
    {
     "name": "stdout",
     "output_type": "stream",
     "text": [
      "Maximum Energy Rating :  5.0\n",
      "Minimum Energy Rating :  1.0\n"
     ]
    }
   ],
   "source": [
    "print('Maximum Energy Rating : ', clotheswasher_df.Energy_Rating.max())\n",
    "print('Minimum Energy Rating : ', clotheswasher_df.Energy_Rating.min())"
   ]
  },
  {
   "cell_type": "code",
   "execution_count": 51,
   "id": "8241a7e0",
   "metadata": {},
   "outputs": [
    {
     "data": {
      "text/plain": [
       "Brand                       object\n",
       "Manufacturing_Country       object\n",
       "Selling_Countries           object\n",
       "Type                        object\n",
       "Model_No                    object\n",
       "Energy_Rating              float64\n",
       "Cold_Energy_Consumption     object\n",
       "Heat_Energy_Consumption      int64\n",
       "Appliance_Category          object\n",
       "dtype: object"
      ]
     },
     "execution_count": 51,
     "metadata": {},
     "output_type": "execute_result"
    }
   ],
   "source": [
    "# Checking the data types for the dataframe \n",
    "clotheswasher_df.dtypes"
   ]
  },
  {
   "cell_type": "code",
   "execution_count": 52,
   "id": "5525811a",
   "metadata": {},
   "outputs": [],
   "source": [
    "# Changing the datatype of Cold_Energy_Consumption from Object to Float\n",
    "clotheswasher_df['Cold_Energy_Consumption'] = clotheswasher_df.Cold_Energy_Consumption.astype(float)"
   ]
  },
  {
   "cell_type": "markdown",
   "id": "5027b788",
   "metadata": {},
   "source": [
    "**Clothes Washer Above 4**"
   ]
  },
  {
   "cell_type": "code",
   "execution_count": 53,
   "id": "c63bd409",
   "metadata": {},
   "outputs": [
    {
     "data": {
      "text/html": [
       "<div>\n",
       "<style scoped>\n",
       "    .dataframe tbody tr th:only-of-type {\n",
       "        vertical-align: middle;\n",
       "    }\n",
       "\n",
       "    .dataframe tbody tr th {\n",
       "        vertical-align: top;\n",
       "    }\n",
       "\n",
       "    .dataframe thead th {\n",
       "        text-align: right;\n",
       "    }\n",
       "</style>\n",
       "<table border=\"1\" class=\"dataframe\">\n",
       "  <thead>\n",
       "    <tr style=\"text-align: right;\">\n",
       "      <th></th>\n",
       "      <th>Brand</th>\n",
       "      <th>Manufacturing_Country</th>\n",
       "      <th>Selling_Countries</th>\n",
       "      <th>Type</th>\n",
       "      <th>Model_No</th>\n",
       "      <th>Energy_Rating</th>\n",
       "      <th>Cold_Energy_Consumption</th>\n",
       "      <th>Heat_Energy_Consumption</th>\n",
       "      <th>Appliance_Category</th>\n",
       "    </tr>\n",
       "  </thead>\n",
       "  <tbody>\n",
       "    <tr>\n",
       "      <th>0</th>\n",
       "      <td>Haier</td>\n",
       "      <td>China</td>\n",
       "      <td>New Zealand</td>\n",
       "      <td>Non-Drum</td>\n",
       "      <td>XQJ50 31A</td>\n",
       "      <td>1.5</td>\n",
       "      <td>90.0</td>\n",
       "      <td>480</td>\n",
       "      <td>CW</td>\n",
       "    </tr>\n",
       "    <tr>\n",
       "      <th>1</th>\n",
       "      <td>Indesit</td>\n",
       "      <td>Italy</td>\n",
       "      <td>New Zealand</td>\n",
       "      <td>Drum</td>\n",
       "      <td>W93</td>\n",
       "      <td>3.5</td>\n",
       "      <td>230.0</td>\n",
       "      <td>240</td>\n",
       "      <td>CW</td>\n",
       "    </tr>\n",
       "    <tr>\n",
       "      <th>2</th>\n",
       "      <td>Indesit</td>\n",
       "      <td>Italy</td>\n",
       "      <td>New Zealand</td>\n",
       "      <td>Drum</td>\n",
       "      <td>WE12</td>\n",
       "      <td>3.5</td>\n",
       "      <td>266.0</td>\n",
       "      <td>277</td>\n",
       "      <td>CW</td>\n",
       "    </tr>\n",
       "    <tr>\n",
       "      <th>3</th>\n",
       "      <td>Indesit</td>\n",
       "      <td>Italy</td>\n",
       "      <td>New Zealand</td>\n",
       "      <td>Drum</td>\n",
       "      <td>WD11</td>\n",
       "      <td>3.0</td>\n",
       "      <td>133.0</td>\n",
       "      <td>327</td>\n",
       "      <td>CW</td>\n",
       "    </tr>\n",
       "    <tr>\n",
       "      <th>11</th>\n",
       "      <td>Fisher &amp; Paykel</td>\n",
       "      <td>New Zealand</td>\n",
       "      <td>New Zealand</td>\n",
       "      <td>Non-Drum</td>\n",
       "      <td>MW612</td>\n",
       "      <td>2.0</td>\n",
       "      <td>62.0</td>\n",
       "      <td>509</td>\n",
       "      <td>CW</td>\n",
       "    </tr>\n",
       "    <tr>\n",
       "      <th>...</th>\n",
       "      <td>...</td>\n",
       "      <td>...</td>\n",
       "      <td>...</td>\n",
       "      <td>...</td>\n",
       "      <td>...</td>\n",
       "      <td>...</td>\n",
       "      <td>...</td>\n",
       "      <td>...</td>\n",
       "      <td>...</td>\n",
       "    </tr>\n",
       "    <tr>\n",
       "      <th>1108</th>\n",
       "      <td>Fisher &amp; Paykel</td>\n",
       "      <td>Thailand</td>\n",
       "      <td>Australia,New Zealand</td>\n",
       "      <td>Non-Drum</td>\n",
       "      <td>WA1068G1</td>\n",
       "      <td>4.0</td>\n",
       "      <td>105.0</td>\n",
       "      <td>350</td>\n",
       "      <td>CW</td>\n",
       "    </tr>\n",
       "    <tr>\n",
       "      <th>1109</th>\n",
       "      <td>Fisher &amp; Paykel</td>\n",
       "      <td>Thailand</td>\n",
       "      <td>Australia,New Zealand</td>\n",
       "      <td>Non-Drum</td>\n",
       "      <td>WA1068G2</td>\n",
       "      <td>4.0</td>\n",
       "      <td>105.0</td>\n",
       "      <td>350</td>\n",
       "      <td>CW</td>\n",
       "    </tr>\n",
       "    <tr>\n",
       "      <th>1114</th>\n",
       "      <td>Tisira</td>\n",
       "      <td>China</td>\n",
       "      <td>Australia,Fiji,New Zealand</td>\n",
       "      <td>Non-Drum</td>\n",
       "      <td>MTC80-P1101PQ/AU9</td>\n",
       "      <td>1.5</td>\n",
       "      <td>0.0</td>\n",
       "      <td>662</td>\n",
       "      <td>CW</td>\n",
       "    </tr>\n",
       "    <tr>\n",
       "      <th>1119</th>\n",
       "      <td>Carson</td>\n",
       "      <td>China</td>\n",
       "      <td>Australia</td>\n",
       "      <td>Non-Drum</td>\n",
       "      <td>CSF7D3P</td>\n",
       "      <td>2.0</td>\n",
       "      <td>55.0</td>\n",
       "      <td>457</td>\n",
       "      <td>CW</td>\n",
       "    </tr>\n",
       "    <tr>\n",
       "      <th>1120</th>\n",
       "      <td>Carson</td>\n",
       "      <td>China</td>\n",
       "      <td>Australia</td>\n",
       "      <td>Non-Drum</td>\n",
       "      <td>CSF7G3P</td>\n",
       "      <td>2.0</td>\n",
       "      <td>55.0</td>\n",
       "      <td>457</td>\n",
       "      <td>CW</td>\n",
       "    </tr>\n",
       "  </tbody>\n",
       "</table>\n",
       "<p>286 rows × 9 columns</p>\n",
       "</div>"
      ],
      "text/plain": [
       "                Brand Manufacturing_Country           Selling_Countries  \\\n",
       "0               Haier                 China                 New Zealand   \n",
       "1             Indesit                 Italy                 New Zealand   \n",
       "2             Indesit                 Italy                 New Zealand   \n",
       "3             Indesit                 Italy                 New Zealand   \n",
       "11    Fisher & Paykel           New Zealand                 New Zealand   \n",
       "...               ...                   ...                         ...   \n",
       "1108  Fisher & Paykel              Thailand       Australia,New Zealand   \n",
       "1109  Fisher & Paykel              Thailand       Australia,New Zealand   \n",
       "1114           Tisira                 China  Australia,Fiji,New Zealand   \n",
       "1119           Carson                 China                   Australia   \n",
       "1120           Carson                 China                   Australia   \n",
       "\n",
       "          Type           Model_No  Energy_Rating  Cold_Energy_Consumption  \\\n",
       "0     Non-Drum          XQJ50 31A            1.5                     90.0   \n",
       "1         Drum                W93            3.5                    230.0   \n",
       "2         Drum               WE12            3.5                    266.0   \n",
       "3         Drum               WD11            3.0                    133.0   \n",
       "11    Non-Drum              MW612            2.0                     62.0   \n",
       "...        ...                ...            ...                      ...   \n",
       "1108  Non-Drum           WA1068G1            4.0                    105.0   \n",
       "1109  Non-Drum           WA1068G2            4.0                    105.0   \n",
       "1114  Non-Drum  MTC80-P1101PQ/AU9            1.5                      0.0   \n",
       "1119  Non-Drum            CSF7D3P            2.0                     55.0   \n",
       "1120  Non-Drum            CSF7G3P            2.0                     55.0   \n",
       "\n",
       "      Heat_Energy_Consumption Appliance_Category  \n",
       "0                         480                 CW  \n",
       "1                         240                 CW  \n",
       "2                         277                 CW  \n",
       "3                         327                 CW  \n",
       "11                        509                 CW  \n",
       "...                       ...                ...  \n",
       "1108                      350                 CW  \n",
       "1109                      350                 CW  \n",
       "1114                      662                 CW  \n",
       "1119                      457                 CW  \n",
       "1120                      457                 CW  \n",
       "\n",
       "[286 rows x 9 columns]"
      ]
     },
     "execution_count": 53,
     "metadata": {},
     "output_type": "execute_result"
    }
   ],
   "source": [
    "clotheswasher_df"
   ]
  },
  {
   "cell_type": "code",
   "execution_count": 54,
   "id": "b4906b88",
   "metadata": {},
   "outputs": [
    {
     "data": {
      "text/plain": [
       "332.89473684210526"
      ]
     },
     "execution_count": 54,
     "metadata": {},
     "output_type": "execute_result"
    }
   ],
   "source": [
    "np.mean(clotheswasher_df.loc[clotheswasher_df['Energy_Rating'] >= 4]['Heat_Energy_Consumption'])"
   ]
  },
  {
   "cell_type": "code",
   "execution_count": 55,
   "id": "35f77796",
   "metadata": {},
   "outputs": [
    {
     "data": {
      "text/plain": [
       "167.2982456140351"
      ]
     },
     "execution_count": 55,
     "metadata": {},
     "output_type": "execute_result"
    }
   ],
   "source": [
    "np.mean(clotheswasher_df.loc[clotheswasher_df['Energy_Rating'] >= 4]['Cold_Energy_Consumption'])"
   ]
  },
  {
   "cell_type": "markdown",
   "id": "e41ac3ab",
   "metadata": {},
   "source": [
    "**Clothes Washer between 2.5 to 4**"
   ]
  },
  {
   "cell_type": "code",
   "execution_count": 56,
   "id": "d4553ed1",
   "metadata": {},
   "outputs": [
    {
     "data": {
      "text/plain": [
       "484.20238095238096"
      ]
     },
     "execution_count": 56,
     "metadata": {},
     "output_type": "execute_result"
    }
   ],
   "source": [
    "np.mean(clotheswasher_df.loc[(clotheswasher_df['Energy_Rating'] >= 2.5) &\n",
    "                             (clotheswasher_df['Energy_Rating'] < 4)]['Heat_Energy_Consumption'])"
   ]
  },
  {
   "cell_type": "code",
   "execution_count": 57,
   "id": "737b0cd2",
   "metadata": {},
   "outputs": [
    {
     "data": {
      "text/plain": [
       "484.20238095238096"
      ]
     },
     "execution_count": 57,
     "metadata": {},
     "output_type": "execute_result"
    }
   ],
   "source": [
    "np.mean(clotheswasher_df.loc[(clotheswasher_df['Energy_Rating'] >= 2.5) &\n",
    "                             (clotheswasher_df['Energy_Rating'] < 4)]['Heat_Energy_Consumption'])"
   ]
  },
  {
   "cell_type": "markdown",
   "id": "3db3b7e1",
   "metadata": {},
   "source": [
    "**Clothes Washer below 2.5**"
   ]
  },
  {
   "cell_type": "code",
   "execution_count": 58,
   "id": "43ae019b",
   "metadata": {},
   "outputs": [
    {
     "data": {
      "text/plain": [
       "120.31818181818181"
      ]
     },
     "execution_count": 58,
     "metadata": {},
     "output_type": "execute_result"
    }
   ],
   "source": [
    "np.mean(clotheswasher_df.loc[clotheswasher_df['Energy_Rating'] < 2.5]['Cold_Energy_Consumption'])"
   ]
  },
  {
   "cell_type": "code",
   "execution_count": 59,
   "id": "d55250c3",
   "metadata": {},
   "outputs": [
    {
     "data": {
      "text/plain": [
       "582.7272727272727"
      ]
     },
     "execution_count": 59,
     "metadata": {},
     "output_type": "execute_result"
    }
   ],
   "source": [
    "np.mean(clotheswasher_df.loc[clotheswasher_df['Energy_Rating'] < 2.5]['Heat_Energy_Consumption'])"
   ]
  },
  {
   "cell_type": "markdown",
   "id": "03460baa",
   "metadata": {},
   "source": [
    "**Clothes Dryer**  \n",
    "**Low** - Below 4  \n",
    "**Medium** - 4 to 7  \n",
    "**Best - Super Efficient Ratings** - Above 7  "
   ]
  },
  {
   "cell_type": "code",
   "execution_count": 60,
   "id": "dddd2aa4",
   "metadata": {},
   "outputs": [
    {
     "data": {
      "text/plain": [
       "Index(['Brand', 'Manufacturing_Country', 'Model_No', 'Energy_Rating',\n",
       "       'Selling_Countries', 'Type', 'Energy_Consumption',\n",
       "       'Appliance_Category'],\n",
       "      dtype='object')"
      ]
     },
     "execution_count": 60,
     "metadata": {},
     "output_type": "execute_result"
    }
   ],
   "source": [
    "clothes_dryer_df.columns"
   ]
  },
  {
   "cell_type": "code",
   "execution_count": 61,
   "id": "92cb31d9",
   "metadata": {},
   "outputs": [
    {
     "name": "stdout",
     "output_type": "stream",
     "text": [
      "Maximum Energy Rating :  10.0\n",
      "Minimum Energy Rating :  1.0\n"
     ]
    }
   ],
   "source": [
    "print('Maximum Energy Rating : ', clothes_dryer_df.Energy_Rating.max())\n",
    "print('Minimum Energy Rating : ', clothes_dryer_df.Energy_Rating.min())"
   ]
  },
  {
   "cell_type": "code",
   "execution_count": 62,
   "id": "62bd4713",
   "metadata": {},
   "outputs": [
    {
     "data": {
      "text/plain": [
       "Brand                     object\n",
       "Manufacturing_Country     object\n",
       "Model_No                  object\n",
       "Energy_Rating            float64\n",
       "Selling_Countries         object\n",
       "Type                      object\n",
       "Energy_Consumption         int64\n",
       "Appliance_Category        object\n",
       "dtype: object"
      ]
     },
     "execution_count": 62,
     "metadata": {},
     "output_type": "execute_result"
    }
   ],
   "source": [
    "clothes_dryer_df.dtypes"
   ]
  },
  {
   "cell_type": "markdown",
   "id": "4b650d42",
   "metadata": {},
   "source": [
    "**Get the mean of energy consumption for the appliances**"
   ]
  },
  {
   "cell_type": "code",
   "execution_count": 63,
   "id": "957ef993",
   "metadata": {},
   "outputs": [
    {
     "data": {
      "text/plain": [
       "135.2078651685393"
      ]
     },
     "execution_count": 63,
     "metadata": {},
     "output_type": "execute_result"
    }
   ],
   "source": [
    "np.mean(clothes_dryer_df.loc[clothes_dryer_df['Energy_Rating'] >= 7]['Energy_Consumption'])"
   ]
  },
  {
   "cell_type": "code",
   "execution_count": 64,
   "id": "bb1a923c",
   "metadata": {},
   "outputs": [
    {
     "data": {
      "text/plain": [
       "154.33333333333334"
      ]
     },
     "execution_count": 64,
     "metadata": {},
     "output_type": "execute_result"
    }
   ],
   "source": [
    "np.mean(clothes_dryer_df.loc[(clothes_dryer_df['Energy_Rating'] >= 4) & \n",
    "                             (clothes_dryer_df['Energy_Rating'] < 7)]['Energy_Consumption'])"
   ]
  },
  {
   "cell_type": "code",
   "execution_count": 65,
   "id": "8c659d77",
   "metadata": {},
   "outputs": [
    {
     "data": {
      "text/plain": [
       "273.48985507246374"
      ]
     },
     "execution_count": 65,
     "metadata": {},
     "output_type": "execute_result"
    }
   ],
   "source": [
    "np.mean(clothes_dryer_df.loc[clothes_dryer_df['Energy_Rating'] < 4]['Energy_Consumption'])"
   ]
  },
  {
   "cell_type": "markdown",
   "id": "62ae0972",
   "metadata": {},
   "source": [
    "**Dishwahser**  \n",
    "**Low** - 1 to 3  \n",
    "**Medium** - 3 to 5  \n",
    "**Best** - 5 to 6  "
   ]
  },
  {
   "cell_type": "code",
   "execution_count": 66,
   "id": "321953fb",
   "metadata": {},
   "outputs": [
    {
     "data": {
      "text/plain": [
       "Index(['Brand', 'Manufacturing_Country', 'Model_No', 'Energy_Rating',\n",
       "       'Selling_Countries', 'Type', 'Energy_Consumption',\n",
       "       'Appliance_Category'],\n",
       "      dtype='object')"
      ]
     },
     "execution_count": 66,
     "metadata": {},
     "output_type": "execute_result"
    }
   ],
   "source": [
    "dishwasher_df.columns"
   ]
  },
  {
   "cell_type": "code",
   "execution_count": 67,
   "id": "1d254f7f",
   "metadata": {},
   "outputs": [
    {
     "name": "stdout",
     "output_type": "stream",
     "text": [
      "Maximum Energy Rating :  6.0\n",
      "Minimum Energy Rating :  1.0\n"
     ]
    }
   ],
   "source": [
    "print('Maximum Energy Rating : ', dishwasher_df.Energy_Rating.max())\n",
    "print('Minimum Energy Rating : ', dishwasher_df.Energy_Rating.min())"
   ]
  },
  {
   "cell_type": "code",
   "execution_count": 68,
   "id": "7957385b",
   "metadata": {},
   "outputs": [
    {
     "data": {
      "text/plain": [
       "Brand                     object\n",
       "Manufacturing_Country     object\n",
       "Model_No                  object\n",
       "Energy_Rating            float64\n",
       "Selling_Countries         object\n",
       "Type                      object\n",
       "Energy_Consumption         int64\n",
       "Appliance_Category        object\n",
       "dtype: object"
      ]
     },
     "execution_count": 68,
     "metadata": {},
     "output_type": "execute_result"
    }
   ],
   "source": [
    "dishwasher_df.dtypes"
   ]
  },
  {
   "cell_type": "markdown",
   "id": "2f34cbee",
   "metadata": {},
   "source": [
    "**Get the mean of energy consumption for the appliances**"
   ]
  },
  {
   "cell_type": "code",
   "execution_count": 69,
   "id": "41a07454",
   "metadata": {},
   "outputs": [
    {
     "data": {
      "text/plain": [
       "111.0"
      ]
     },
     "execution_count": 69,
     "metadata": {},
     "output_type": "execute_result"
    }
   ],
   "source": [
    "np.mean(dishwasher_df.loc[dishwasher_df['Energy_Rating'] >= 5]['Energy_Consumption'])"
   ]
  },
  {
   "cell_type": "code",
   "execution_count": 70,
   "id": "e0a94284",
   "metadata": {},
   "outputs": [
    {
     "data": {
      "text/plain": [
       "253.81110190555094"
      ]
     },
     "execution_count": 70,
     "metadata": {},
     "output_type": "execute_result"
    }
   ],
   "source": [
    "np.mean(dishwasher_df.loc[(dishwasher_df['Energy_Rating'] >= 3) & \n",
    "                          (dishwasher_df['Energy_Rating'] < 5)]['Energy_Consumption'])"
   ]
  },
  {
   "cell_type": "code",
   "execution_count": 71,
   "id": "732b3907",
   "metadata": {},
   "outputs": [
    {
     "data": {
      "text/plain": [
       "287.0483870967742"
      ]
     },
     "execution_count": 71,
     "metadata": {},
     "output_type": "execute_result"
    }
   ],
   "source": [
    "np.mean(dishwasher_df.loc[dishwasher_df['Energy_Rating'] < 3]['Energy_Consumption'])"
   ]
  },
  {
   "cell_type": "markdown",
   "id": "db7c76e6",
   "metadata": {},
   "source": [
    "**Refrigerator**  \n",
    "**Low -** Below 3  \n",
    "**Medium -** 3 to 6  \n",
    "**High -** Above 6  \n"
   ]
  },
  {
   "cell_type": "code",
   "execution_count": 72,
   "id": "768d7cfb",
   "metadata": {},
   "outputs": [
    {
     "data": {
      "text/plain": [
       "Index(['Brand', 'Manufacturing_Country', 'Model_No', 'Type', 'Energy_Rating',\n",
       "       'Selling_Countries', 'Energy_Consumption', 'Appliance_Category'],\n",
       "      dtype='object')"
      ]
     },
     "execution_count": 72,
     "metadata": {},
     "output_type": "execute_result"
    }
   ],
   "source": [
    "refrigerator_df.columns"
   ]
  },
  {
   "cell_type": "code",
   "execution_count": 73,
   "id": "b019b65c",
   "metadata": {},
   "outputs": [
    {
     "name": "stdout",
     "output_type": "stream",
     "text": [
      "Maximum Energy Rating :  7.0\n",
      "Minimum Energy Rating :  1.0\n"
     ]
    }
   ],
   "source": [
    "print('Maximum Energy Rating : ', refrigerator_df.Energy_Rating.max())\n",
    "print('Minimum Energy Rating : ', refrigerator_df.Energy_Rating.min())"
   ]
  },
  {
   "cell_type": "code",
   "execution_count": 74,
   "id": "8268dde9",
   "metadata": {
    "scrolled": false
   },
   "outputs": [
    {
     "data": {
      "text/plain": [
       "Brand                     object\n",
       "Manufacturing_Country     object\n",
       "Model_No                  object\n",
       "Type                      object\n",
       "Energy_Rating            float64\n",
       "Selling_Countries         object\n",
       "Energy_Consumption         int64\n",
       "Appliance_Category        object\n",
       "dtype: object"
      ]
     },
     "execution_count": 74,
     "metadata": {},
     "output_type": "execute_result"
    }
   ],
   "source": [
    "refrigerator_df.dtypes\n"
   ]
  },
  {
   "cell_type": "markdown",
   "id": "e2e0b8bd",
   "metadata": {},
   "source": [
    "**Get the mean of energy consumption for the appliances**"
   ]
  },
  {
   "cell_type": "code",
   "execution_count": 75,
   "id": "818250a8",
   "metadata": {},
   "outputs": [
    {
     "data": {
      "text/plain": [
       "218.0"
      ]
     },
     "execution_count": 75,
     "metadata": {},
     "output_type": "execute_result"
    }
   ],
   "source": [
    "np.mean(refrigerator_df.loc[refrigerator_df['Energy_Rating'] >= 6]['Energy_Consumption'])"
   ]
  },
  {
   "cell_type": "code",
   "execution_count": 76,
   "id": "7e4a9d88",
   "metadata": {},
   "outputs": [
    {
     "data": {
      "text/plain": [
       "323.9513491414554"
      ]
     },
     "execution_count": 76,
     "metadata": {},
     "output_type": "execute_result"
    }
   ],
   "source": [
    "np.mean(refrigerator_df.loc[(refrigerator_df['Energy_Rating'] >= 3) &\n",
    "                           (refrigerator_df['Energy_Rating'] < 6)]['Energy_Consumption'])"
   ]
  },
  {
   "cell_type": "code",
   "execution_count": 77,
   "id": "d3f7dfd7",
   "metadata": {},
   "outputs": [
    {
     "data": {
      "text/plain": [
       "390.86904005085825"
      ]
     },
     "execution_count": 77,
     "metadata": {},
     "output_type": "execute_result"
    }
   ],
   "source": [
    "np.mean(refrigerator_df.loc[refrigerator_df['Energy_Rating'] < 3]['Energy_Consumption'])"
   ]
  },
  {
   "cell_type": "markdown",
   "id": "16896358",
   "metadata": {},
   "source": [
    "**Television**  \n",
    "**Low -** Below 3  \n",
    "**Medium -** 3 to 6  \n",
    "**High -** Above 6  \n"
   ]
  },
  {
   "cell_type": "code",
   "execution_count": 78,
   "id": "db674914",
   "metadata": {},
   "outputs": [
    {
     "data": {
      "text/plain": [
       "Index(['Brand', 'Model_No', 'Selling_Countries', 'Manufacturing_Country',\n",
       "       'Type', 'Energy_Rating', 'Energy_Consumption', 'Appliance_Category'],\n",
       "      dtype='object')"
      ]
     },
     "execution_count": 78,
     "metadata": {},
     "output_type": "execute_result"
    }
   ],
   "source": [
    "television_df.columns"
   ]
  },
  {
   "cell_type": "code",
   "execution_count": 79,
   "id": "502c1ed0",
   "metadata": {},
   "outputs": [
    {
     "name": "stdout",
     "output_type": "stream",
     "text": [
      "Maximum Energy Rating :  7.0\n",
      "Minimum Energy Rating :  1.0\n"
     ]
    }
   ],
   "source": [
    "print('Maximum Energy Rating : ', television_df.Energy_Rating.max())\n",
    "print('Minimum Energy Rating : ', television_df.Energy_Rating.min())"
   ]
  },
  {
   "cell_type": "code",
   "execution_count": 80,
   "id": "5dcf61bc",
   "metadata": {},
   "outputs": [
    {
     "data": {
      "text/plain": [
       "Brand                     object\n",
       "Model_No                  object\n",
       "Selling_Countries         object\n",
       "Manufacturing_Country     object\n",
       "Type                      object\n",
       "Energy_Rating            float64\n",
       "Energy_Consumption       float64\n",
       "Appliance_Category        object\n",
       "dtype: object"
      ]
     },
     "execution_count": 80,
     "metadata": {},
     "output_type": "execute_result"
    }
   ],
   "source": [
    "television_df.dtypes"
   ]
  },
  {
   "cell_type": "markdown",
   "id": "8381d7c1",
   "metadata": {},
   "source": [
    "**Get the mean of energy consumption for the appliances**"
   ]
  },
  {
   "cell_type": "code",
   "execution_count": 81,
   "id": "62b1b098",
   "metadata": {},
   "outputs": [
    {
     "data": {
      "text/plain": [
       "222.99811676082862"
      ]
     },
     "execution_count": 81,
     "metadata": {},
     "output_type": "execute_result"
    }
   ],
   "source": [
    "np.mean(television_df.loc[television_df['Energy_Rating'] >= 6]['Energy_Consumption'])"
   ]
  },
  {
   "cell_type": "code",
   "execution_count": 82,
   "id": "97d1ea8a",
   "metadata": {},
   "outputs": [
    {
     "data": {
      "text/plain": [
       "393.00523725834796"
      ]
     },
     "execution_count": 82,
     "metadata": {},
     "output_type": "execute_result"
    }
   ],
   "source": [
    "np.mean(television_df.loc[(television_df['Energy_Rating'] >= 3) &\n",
    "                           (television_df['Energy_Rating'] < 6)]['Energy_Consumption'])"
   ]
  },
  {
   "cell_type": "code",
   "execution_count": 83,
   "id": "d2120394",
   "metadata": {},
   "outputs": [
    {
     "data": {
      "text/plain": [
       "897.957627118644"
      ]
     },
     "execution_count": 83,
     "metadata": {},
     "output_type": "execute_result"
    }
   ],
   "source": [
    "np.mean(television_df.loc[television_df['Energy_Rating'] < 3]['Energy_Consumption'])"
   ]
  },
  {
   "cell_type": "markdown",
   "id": "7c910e0d",
   "metadata": {},
   "source": [
    "**Air-Conditioner**  \n",
    "**Low** - Below 3.5   \n",
    "**Medium** - 3.5 to 4.5   \n",
    "**Best** - Above 4.5  "
   ]
  },
  {
   "cell_type": "code",
   "execution_count": 84,
   "id": "f4dcf3dd",
   "metadata": {},
   "outputs": [
    {
     "data": {
      "text/plain": [
       "Index(['Model_No', 'Brand', 'Manufacturing_Country', 'Selling_Countries',\n",
       "       'Type', 'Energy_Rating', 'Heating Power KW', 'Cooling Power KW',\n",
       "       'Appliance_Category'],\n",
       "      dtype='object')"
      ]
     },
     "execution_count": 84,
     "metadata": {},
     "output_type": "execute_result"
    }
   ],
   "source": [
    "air_conditioner_df.columns"
   ]
  },
  {
   "cell_type": "code",
   "execution_count": 85,
   "id": "917d1c7e",
   "metadata": {},
   "outputs": [
    {
     "name": "stdout",
     "output_type": "stream",
     "text": [
      "Maximum Energy Rating :  5.848\n",
      "Minimum Energy Rating :  2.78\n"
     ]
    }
   ],
   "source": [
    "print('Maximum Energy Rating : ', air_conditioner_df.Energy_Rating.max())\n",
    "print('Minimum Energy Rating : ', air_conditioner_df.Energy_Rating.min())"
   ]
  },
  {
   "cell_type": "code",
   "execution_count": 86,
   "id": "74f21b56",
   "metadata": {},
   "outputs": [
    {
     "data": {
      "text/plain": [
       "Model_No                  object\n",
       "Brand                     object\n",
       "Manufacturing_Country     object\n",
       "Selling_Countries         object\n",
       "Type                      object\n",
       "Energy_Rating            float64\n",
       "Heating Power KW          object\n",
       "Cooling Power KW          object\n",
       "Appliance_Category        object\n",
       "dtype: object"
      ]
     },
     "execution_count": 86,
     "metadata": {},
     "output_type": "execute_result"
    }
   ],
   "source": [
    "air_conditioner_df.dtypes"
   ]
  },
  {
   "cell_type": "code",
   "execution_count": 87,
   "id": "5beea0ed",
   "metadata": {
    "scrolled": true
   },
   "outputs": [],
   "source": [
    "# Changing the datatype of Cold_Energy_Consumption and Heat_Energy_consumption from Object to Float\n",
    "air_conditioner_df['Heating Power KW'] = air_conditioner_df['Heating Power KW'].astype(float)\n",
    "\n",
    "air_conditioner_df['Cooling Power KW'] = air_conditioner_df['Cooling Power KW'].astype(float)\n"
   ]
  },
  {
   "cell_type": "markdown",
   "id": "2b45b120",
   "metadata": {},
   "source": [
    "**Get the mean of energy consumption for the appliances**  \n",
    "\n",
    "Calculating the energy consumption based on the Heating Power KW and Cooling Power KW  for 365 year. Assuming, the average air conditioner usage is 2 hrs daily."
   ]
  },
  {
   "cell_type": "code",
   "execution_count": 88,
   "id": "0d639000",
   "metadata": {},
   "outputs": [
    {
     "data": {
      "text/plain": [
       "743.8151445086704"
      ]
     },
     "execution_count": 88,
     "metadata": {},
     "output_type": "execute_result"
    }
   ],
   "source": [
    "np.mean(air_conditioner_df.loc[air_conditioner_df['Energy_Rating'] >= 4.5]['Heating Power KW'] * 2 * 365)"
   ]
  },
  {
   "cell_type": "code",
   "execution_count": 89,
   "id": "35fd0320",
   "metadata": {},
   "outputs": [
    {
     "data": {
      "text/plain": [
       "5000.786936416185"
      ]
     },
     "execution_count": 89,
     "metadata": {},
     "output_type": "execute_result"
    }
   ],
   "source": [
    "np.mean(air_conditioner_df.loc[air_conditioner_df['Energy_Rating'] >= 4.5]['Cooling Power KW'] * 2 * 365)"
   ]
  },
  {
   "cell_type": "code",
   "execution_count": 90,
   "id": "7acabe83",
   "metadata": {},
   "outputs": [
    {
     "data": {
      "text/plain": [
       "3357.4024978392395"
      ]
     },
     "execution_count": 90,
     "metadata": {},
     "output_type": "execute_result"
    }
   ],
   "source": [
    "np.mean(air_conditioner_df.loc[air_conditioner_df['Energy_Rating'] < 3.5]['Heating Power KW'] * 2 * 365)"
   ]
  },
  {
   "cell_type": "code",
   "execution_count": 91,
   "id": "b509c6ae",
   "metadata": {},
   "outputs": [
    {
     "data": {
      "text/plain": [
       "5540.635643906655"
      ]
     },
     "execution_count": 91,
     "metadata": {},
     "output_type": "execute_result"
    }
   ],
   "source": [
    "np.mean(air_conditioner_df.loc[air_conditioner_df['Energy_Rating'] < 3.5]['Cooling Power KW'] * 2 * 365)"
   ]
  },
  {
   "cell_type": "code",
   "execution_count": 92,
   "id": "716b210c",
   "metadata": {},
   "outputs": [
    {
     "data": {
      "text/plain": [
       "2535.265170068027"
      ]
     },
     "execution_count": 92,
     "metadata": {},
     "output_type": "execute_result"
    }
   ],
   "source": [
    "np.mean(air_conditioner_df.loc[(air_conditioner_df['Energy_Rating'] >= 3.5) &\n",
    "                           (air_conditioner_df['Energy_Rating'] < 4.5)]['Heating Power KW'] * 2 * 365)"
   ]
  },
  {
   "cell_type": "code",
   "execution_count": 93,
   "id": "75e4f0d9",
   "metadata": {},
   "outputs": [
    {
     "data": {
      "text/plain": [
       "10078.50556851312"
      ]
     },
     "execution_count": 93,
     "metadata": {},
     "output_type": "execute_result"
    }
   ],
   "source": [
    "np.mean(air_conditioner_df.loc[(air_conditioner_df['Energy_Rating'] >= 3.5) &\n",
    "                           (air_conditioner_df['Energy_Rating'] < 4.5)]['Cooling Power KW'] * 2 * 365)"
   ]
  },
  {
   "cell_type": "markdown",
   "id": "878024e2",
   "metadata": {},
   "source": [
    "**Calculating the average of heating and cooling energy consumption for air-conditioner**"
   ]
  },
  {
   "cell_type": "code",
   "execution_count": 94,
   "id": "20de7139",
   "metadata": {},
   "outputs": [
    {
     "data": {
      "text/plain": [
       "4449.02"
      ]
     },
     "execution_count": 94,
     "metadata": {},
     "output_type": "execute_result"
    }
   ],
   "source": [
    "# Mean for energy rating below 3.5\n",
    "np.mean([5540.64, 3357.40])"
   ]
  },
  {
   "cell_type": "code",
   "execution_count": 95,
   "id": "62d679ef",
   "metadata": {},
   "outputs": [
    {
     "data": {
      "text/plain": [
       "6306.93"
      ]
     },
     "execution_count": 95,
     "metadata": {},
     "output_type": "execute_result"
    }
   ],
   "source": [
    "# Mean for energy rating between 3.5 and 4.5\n",
    "np.mean([10078.50, 2535.36])"
   ]
  },
  {
   "cell_type": "code",
   "execution_count": 96,
   "id": "13298771",
   "metadata": {},
   "outputs": [
    {
     "data": {
      "text/plain": [
       "2872.303"
      ]
     },
     "execution_count": 96,
     "metadata": {},
     "output_type": "execute_result"
    }
   ],
   "source": [
    "# Mean for energy rating greater than 4.5\n",
    "np.mean([5000.786, 743.82])"
   ]
  },
  {
   "cell_type": "markdown",
   "id": "459c916f",
   "metadata": {},
   "source": [
    "**Clothes Washer**"
   ]
  },
  {
   "cell_type": "code",
   "execution_count": 97,
   "id": "b8b1bb86",
   "metadata": {},
   "outputs": [
    {
     "data": {
      "text/plain": [
       "250.1"
      ]
     },
     "execution_count": 97,
     "metadata": {},
     "output_type": "execute_result"
    }
   ],
   "source": [
    "# Mean for energy rating below 2.5\n",
    "np.mean([167.30, 332.90])"
   ]
  },
  {
   "cell_type": "code",
   "execution_count": 98,
   "id": "902645e9",
   "metadata": {},
   "outputs": [
    {
     "data": {
      "text/plain": [
       "294.951"
      ]
     },
     "execution_count": 98,
     "metadata": {},
     "output_type": "execute_result"
    }
   ],
   "source": [
    "# Mean for energy rating between 2.4 to 4\n",
    "np.mean([105.70,484.202])"
   ]
  },
  {
   "cell_type": "code",
   "execution_count": 99,
   "id": "263d27ca",
   "metadata": {},
   "outputs": [
    {
     "data": {
      "text/plain": [
       "351.515"
      ]
     },
     "execution_count": 99,
     "metadata": {},
     "output_type": "execute_result"
    }
   ],
   "source": [
    "# Mean for energy rating greater than 4\n",
    "np.mean([120.31, 582.72])"
   ]
  },
  {
   "cell_type": "code",
   "execution_count": 100,
   "id": "a661a70c",
   "metadata": {},
   "outputs": [],
   "source": [
    "# Converting all the calculated data as a separate list for converting them to a csv file.\n",
    "\n",
    "appliance_category = ['Air Conditioner','Air Conditioner','Air Conditioner', 'Clothes Washer', 'Clothes Washer', \n",
    "                      'Clothes Washer','Clothes Dryer', 'Clothes Dryer', 'Clothes Dryer', 'Dishwasher', 'Dishwasher',\n",
    "                     'Dishwasher', 'Refrigerator', 'Refrigerator', 'Refrigerator', 'Television', 'Television',\n",
    "                     'Television']\n",
    "ratings_category = ['Below 3.5', '3.5 to 4.5', 'Above 4.5','Below 2.5', '2.5 to 4', 'Above 4','Below 4', \n",
    "                    '4 to 7','Above 7', 'Below 3', '3 to 5',\n",
    "                    'Above 5', 'Below 3', '3 to 6', 'Above 6', 'Below 3', '3 to 6','Above 6']\n",
    "# Avg_cold_energy_consumption = [5540.64, 10078.50, 5000.786, 167.30, 105.70, 120.31, 0, 0, 0, 0, 0, 0, 0, 0, \n",
    "#                                0, 0, 0, 0]\n",
    "# Avg_heat_energy_consumption = [3357.40,2535.36, 743.82, 332.90, 484.202, 582.72, 0, 0, 0, 0, 0, 0, 0, 0, 0, 0, 0, 0]\n",
    "Avg_energy_consumption = [4449.02, 6306.93, 2872.303, 250.1, 294.95, 351.52, 273.5, 154.3, 135.20, 287.05, 253.81, 111.0, 390.87, 323.95, 218.0, 897.957,\n",
    "                         393.0, 223]\n",
    "\n",
    " \n"
   ]
  },
  {
   "cell_type": "code",
   "execution_count": 101,
   "id": "f7626cea",
   "metadata": {},
   "outputs": [],
   "source": [
    "# Initialising a dictionary to create a Dataframe\n",
    "data = {'Appliance_category': appliance_category, 'Ratings_category': ratings_category,\n",
    "'Avg_energy_consumption': Avg_energy_consumption}"
   ]
  },
  {
   "cell_type": "code",
   "execution_count": 102,
   "id": "480daa13",
   "metadata": {},
   "outputs": [],
   "source": [
    "# Creating a dataframe\n",
    "energy_consumption_df = pd.DataFrame.from_dict(data)"
   ]
  },
  {
   "cell_type": "code",
   "execution_count": 103,
   "id": "f04a6c4e",
   "metadata": {},
   "outputs": [
    {
     "data": {
      "text/html": [
       "<div>\n",
       "<style scoped>\n",
       "    .dataframe tbody tr th:only-of-type {\n",
       "        vertical-align: middle;\n",
       "    }\n",
       "\n",
       "    .dataframe tbody tr th {\n",
       "        vertical-align: top;\n",
       "    }\n",
       "\n",
       "    .dataframe thead th {\n",
       "        text-align: right;\n",
       "    }\n",
       "</style>\n",
       "<table border=\"1\" class=\"dataframe\">\n",
       "  <thead>\n",
       "    <tr style=\"text-align: right;\">\n",
       "      <th></th>\n",
       "      <th>Appliance_category</th>\n",
       "      <th>Ratings_category</th>\n",
       "      <th>Avg_energy_consumption</th>\n",
       "    </tr>\n",
       "  </thead>\n",
       "  <tbody>\n",
       "    <tr>\n",
       "      <th>0</th>\n",
       "      <td>Air Conditioner</td>\n",
       "      <td>Below 3.5</td>\n",
       "      <td>4449.020</td>\n",
       "    </tr>\n",
       "    <tr>\n",
       "      <th>1</th>\n",
       "      <td>Air Conditioner</td>\n",
       "      <td>3.5 to 4.5</td>\n",
       "      <td>6306.930</td>\n",
       "    </tr>\n",
       "    <tr>\n",
       "      <th>2</th>\n",
       "      <td>Air Conditioner</td>\n",
       "      <td>Above 4.5</td>\n",
       "      <td>2872.303</td>\n",
       "    </tr>\n",
       "    <tr>\n",
       "      <th>3</th>\n",
       "      <td>Clothes Washer</td>\n",
       "      <td>Below 2.5</td>\n",
       "      <td>250.100</td>\n",
       "    </tr>\n",
       "    <tr>\n",
       "      <th>4</th>\n",
       "      <td>Clothes Washer</td>\n",
       "      <td>2.5 to 4</td>\n",
       "      <td>294.950</td>\n",
       "    </tr>\n",
       "    <tr>\n",
       "      <th>5</th>\n",
       "      <td>Clothes Washer</td>\n",
       "      <td>Above 4</td>\n",
       "      <td>351.520</td>\n",
       "    </tr>\n",
       "    <tr>\n",
       "      <th>6</th>\n",
       "      <td>Clothes Dryer</td>\n",
       "      <td>Below 4</td>\n",
       "      <td>273.500</td>\n",
       "    </tr>\n",
       "    <tr>\n",
       "      <th>7</th>\n",
       "      <td>Clothes Dryer</td>\n",
       "      <td>4 to 7</td>\n",
       "      <td>154.300</td>\n",
       "    </tr>\n",
       "    <tr>\n",
       "      <th>8</th>\n",
       "      <td>Clothes Dryer</td>\n",
       "      <td>Above 7</td>\n",
       "      <td>135.200</td>\n",
       "    </tr>\n",
       "    <tr>\n",
       "      <th>9</th>\n",
       "      <td>Dishwasher</td>\n",
       "      <td>Below 3</td>\n",
       "      <td>287.050</td>\n",
       "    </tr>\n",
       "    <tr>\n",
       "      <th>10</th>\n",
       "      <td>Dishwasher</td>\n",
       "      <td>3 to 5</td>\n",
       "      <td>253.810</td>\n",
       "    </tr>\n",
       "    <tr>\n",
       "      <th>11</th>\n",
       "      <td>Dishwasher</td>\n",
       "      <td>Above 5</td>\n",
       "      <td>111.000</td>\n",
       "    </tr>\n",
       "    <tr>\n",
       "      <th>12</th>\n",
       "      <td>Refrigerator</td>\n",
       "      <td>Below 3</td>\n",
       "      <td>390.870</td>\n",
       "    </tr>\n",
       "    <tr>\n",
       "      <th>13</th>\n",
       "      <td>Refrigerator</td>\n",
       "      <td>3 to 6</td>\n",
       "      <td>323.950</td>\n",
       "    </tr>\n",
       "    <tr>\n",
       "      <th>14</th>\n",
       "      <td>Refrigerator</td>\n",
       "      <td>Above 6</td>\n",
       "      <td>218.000</td>\n",
       "    </tr>\n",
       "    <tr>\n",
       "      <th>15</th>\n",
       "      <td>Television</td>\n",
       "      <td>Below 3</td>\n",
       "      <td>897.957</td>\n",
       "    </tr>\n",
       "    <tr>\n",
       "      <th>16</th>\n",
       "      <td>Television</td>\n",
       "      <td>3 to 6</td>\n",
       "      <td>393.000</td>\n",
       "    </tr>\n",
       "    <tr>\n",
       "      <th>17</th>\n",
       "      <td>Television</td>\n",
       "      <td>Above 6</td>\n",
       "      <td>223.000</td>\n",
       "    </tr>\n",
       "  </tbody>\n",
       "</table>\n",
       "</div>"
      ],
      "text/plain": [
       "   Appliance_category Ratings_category  Avg_energy_consumption\n",
       "0     Air Conditioner        Below 3.5                4449.020\n",
       "1     Air Conditioner       3.5 to 4.5                6306.930\n",
       "2     Air Conditioner        Above 4.5                2872.303\n",
       "3      Clothes Washer        Below 2.5                 250.100\n",
       "4      Clothes Washer         2.5 to 4                 294.950\n",
       "5      Clothes Washer          Above 4                 351.520\n",
       "6       Clothes Dryer          Below 4                 273.500\n",
       "7       Clothes Dryer           4 to 7                 154.300\n",
       "8       Clothes Dryer          Above 7                 135.200\n",
       "9          Dishwasher          Below 3                 287.050\n",
       "10         Dishwasher           3 to 5                 253.810\n",
       "11         Dishwasher          Above 5                 111.000\n",
       "12       Refrigerator          Below 3                 390.870\n",
       "13       Refrigerator           3 to 6                 323.950\n",
       "14       Refrigerator          Above 6                 218.000\n",
       "15         Television          Below 3                 897.957\n",
       "16         Television           3 to 6                 393.000\n",
       "17         Television          Above 6                 223.000"
      ]
     },
     "execution_count": 103,
     "metadata": {},
     "output_type": "execute_result"
    }
   ],
   "source": [
    "energy_consumption_df"
   ]
  },
  {
   "cell_type": "code",
   "execution_count": 104,
   "id": "e59e8ec8",
   "metadata": {},
   "outputs": [],
   "source": [
    "# Converting the energy_consumption dataframe to a csv file\n",
    "energy_consumption_df.to_csv('energy_consumption.csv', index=False)"
   ]
  }
 ],
 "metadata": {
  "kernelspec": {
   "display_name": "Python 3 (ipykernel)",
   "language": "python",
   "name": "python3"
  },
  "language_info": {
   "codemirror_mode": {
    "name": "ipython",
    "version": 3
   },
   "file_extension": ".py",
   "mimetype": "text/x-python",
   "name": "python",
   "nbconvert_exporter": "python",
   "pygments_lexer": "ipython3",
   "version": "3.9.12"
  }
 },
 "nbformat": 4,
 "nbformat_minor": 5
}
